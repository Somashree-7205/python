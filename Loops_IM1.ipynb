{
 "cells": [
  {
   "cell_type": "markdown",
   "id": "eb0b3ee4",
   "metadata": {},
   "source": [
    "# Loops"
   ]
  },
  {
   "cell_type": "markdown",
   "id": "9b9fd986",
   "metadata": {},
   "source": [
    "\n",
    "    FOR loop\n",
    "    While loop\n"
   ]
  },
  {
   "cell_type": "code",
   "execution_count": 1,
   "id": "508db5d5",
   "metadata": {},
   "outputs": [
    {
     "name": "stdout",
     "output_type": "stream",
     "text": [
      "[0, 1, 2, 3, 4, 5, 65, 745, 800, 98]\n"
     ]
    }
   ],
   "source": [
    "simpl_list=[0,1,2,3,4,5,65,745,800,98]\n",
    "print(simpl_list)"
   ]
  },
  {
   "cell_type": "code",
   "execution_count": 2,
   "id": "2e089c76",
   "metadata": {},
   "outputs": [
    {
     "name": "stdout",
     "output_type": "stream",
     "text": [
      "0\n",
      "1\n",
      "2\n",
      "3\n",
      "4\n",
      "5\n",
      "65\n",
      "745\n",
      "800\n",
      "98\n"
     ]
    }
   ],
   "source": [
    "for i in simpl_list:\n",
    "    print(i)"
   ]
  },
  {
   "cell_type": "code",
   "execution_count": 3,
   "id": "e65c7650",
   "metadata": {},
   "outputs": [
    {
     "name": "stdout",
     "output_type": "stream",
     "text": [
      "5\n",
      "65\n",
      "745\n",
      "10\n",
      "130\n",
      "1490\n",
      "15\n",
      "195\n",
      "2235\n"
     ]
    }
   ],
   "source": [
    "for i in simpl_list[1:4]:\n",
    "    for j in simpl_list[5:8]:\n",
    "        print(i*j)\n"
   ]
  },
  {
   "cell_type": "code",
   "execution_count": 4,
   "id": "e0585c0d",
   "metadata": {},
   "outputs": [
    {
     "name": "stdout",
     "output_type": "stream",
     "text": [
      "range(0, 5)\n"
     ]
    }
   ],
   "source": [
    "#looping over a range of values\n",
    "print(range(5))"
   ]
  },
  {
   "cell_type": "code",
   "execution_count": 5,
   "id": "97142cc2",
   "metadata": {},
   "outputs": [
    {
     "name": "stdout",
     "output_type": "stream",
     "text": [
      "0\n",
      "1\n",
      "2\n",
      "3\n",
      "4\n"
     ]
    }
   ],
   "source": [
    "for i in range (5):\n",
    "    print(i)"
   ]
  },
  {
   "cell_type": "code",
   "execution_count": 6,
   "id": "d4554b7b",
   "metadata": {},
   "outputs": [
    {
     "name": "stdout",
     "output_type": "stream",
     "text": [
      "2\n",
      "3\n",
      "4\n"
     ]
    }
   ],
   "source": [
    "# range with starting and end value\n",
    "for i in range (2,5):\n",
    "    print(i)"
   ]
  },
  {
   "cell_type": "code",
   "execution_count": null,
   "id": "562c020f",
   "metadata": {},
   "outputs": [],
   "source": []
  },
  {
   "cell_type": "code",
   "execution_count": 7,
   "id": "7ccfb6bc",
   "metadata": {},
   "outputs": [],
   "source": [
    "#Printing square from 1 to 10 using a for loop"
   ]
  },
  {
   "cell_type": "code",
   "execution_count": 8,
   "id": "f1d900d7",
   "metadata": {},
   "outputs": [
    {
     "name": "stdout",
     "output_type": "stream",
     "text": [
      "1\n",
      "4\n",
      "9\n",
      "16\n",
      "25\n",
      "36\n",
      "49\n",
      "64\n",
      "81\n",
      "100\n"
     ]
    }
   ],
   "source": [
    "for i in range(1,11):\n",
    "    print(i*i)"
   ]
  },
  {
   "cell_type": "code",
   "execution_count": 9,
   "id": "66e7fd3d",
   "metadata": {},
   "outputs": [
    {
     "name": "stdout",
     "output_type": "stream",
     "text": [
      "sqaure of 1 is 1\n",
      "sqaure of 2 is 4\n",
      "sqaure of 3 is 9\n",
      "sqaure of 4 is 16\n",
      "sqaure of 5 is 25\n",
      "sqaure of 6 is 36\n",
      "sqaure of 7 is 49\n",
      "sqaure of 8 is 64\n",
      "sqaure of 9 is 81\n",
      "sqaure of 10 is 100\n"
     ]
    }
   ],
   "source": [
    "## or u can write \n",
    "a=[1,2,3,4,5,6,7,8,9,10]\n",
    "for i in a:\n",
    "    print('sqaure of {} is {}'.format(i,i*i))"
   ]
  },
  {
   "cell_type": "code",
   "execution_count": 10,
   "id": "4227a433",
   "metadata": {},
   "outputs": [
    {
     "name": "stdout",
     "output_type": "stream",
     "text": [
      "sqaure of 1 is 1\n",
      "sqaure of 2 is 4\n",
      "sqaure of 3 is 9\n",
      "sqaure of 4 is 16\n",
      "sqaure of 5 is 25\n",
      "sqaure of 6 is 36\n",
      "sqaure of 7 is 49\n",
      "sqaure of 8 is 64\n",
      "sqaure of 9 is 81\n",
      "sqaure of 10 is 100\n"
     ]
    }
   ],
   "source": [
    "# f is used for .format\n",
    "a=[1,2,3,4,5,6,7,8,9,10]\n",
    "for i in a:\n",
    "    print(f'sqaure of {i} is {i*i}')"
   ]
  },
  {
   "cell_type": "markdown",
   "id": "0886ef62",
   "metadata": {},
   "source": [
    "### Using IF-ELSE with for Loop"
   ]
  },
  {
   "cell_type": "code",
   "execution_count": 11,
   "id": "824e73e8",
   "metadata": {},
   "outputs": [],
   "source": [
    "#Printing squares of even numbers from 1 to 100"
   ]
  },
  {
   "cell_type": "code",
   "execution_count": 12,
   "id": "d47fcfc3",
   "metadata": {},
   "outputs": [
    {
     "name": "stdout",
     "output_type": "stream",
     "text": [
      "sqaure of 0 is 0\n",
      "sqaure of 2 is 4\n",
      "sqaure of 4 is 16\n",
      "sqaure of 6 is 36\n",
      "sqaure of 8 is 64\n",
      "sqaure of 10 is 100\n",
      "sqaure of 12 is 144\n",
      "sqaure of 14 is 196\n",
      "sqaure of 16 is 256\n",
      "sqaure of 18 is 324\n",
      "sqaure of 20 is 400\n",
      "sqaure of 22 is 484\n",
      "sqaure of 24 is 576\n",
      "sqaure of 26 is 676\n",
      "sqaure of 28 is 784\n",
      "sqaure of 30 is 900\n",
      "sqaure of 32 is 1024\n",
      "sqaure of 34 is 1156\n",
      "sqaure of 36 is 1296\n",
      "sqaure of 38 is 1444\n",
      "sqaure of 40 is 1600\n",
      "sqaure of 42 is 1764\n",
      "sqaure of 44 is 1936\n",
      "sqaure of 46 is 2116\n",
      "sqaure of 48 is 2304\n",
      "sqaure of 50 is 2500\n",
      "sqaure of 52 is 2704\n",
      "sqaure of 54 is 2916\n",
      "sqaure of 56 is 3136\n",
      "sqaure of 58 is 3364\n",
      "sqaure of 60 is 3600\n",
      "sqaure of 62 is 3844\n",
      "sqaure of 64 is 4096\n",
      "sqaure of 66 is 4356\n",
      "sqaure of 68 is 4624\n",
      "sqaure of 70 is 4900\n",
      "sqaure of 72 is 5184\n",
      "sqaure of 74 is 5476\n",
      "sqaure of 76 is 5776\n",
      "sqaure of 78 is 6084\n",
      "sqaure of 80 is 6400\n",
      "sqaure of 82 is 6724\n",
      "sqaure of 84 is 7056\n",
      "sqaure of 86 is 7396\n",
      "sqaure of 88 is 7744\n",
      "sqaure of 90 is 8100\n",
      "sqaure of 92 is 8464\n",
      "sqaure of 94 is 8836\n",
      "sqaure of 96 is 9216\n",
      "sqaure of 98 is 9604\n",
      "sqaure of 100 is 10000\n"
     ]
    }
   ],
   "source": [
    "x=range(101)\n",
    "for i in x:\n",
    "    if i%2==0:          ##i mod 2(i/2=0)\n",
    "         print(f'sqaure of {i} is {i*i}')\n",
    "    \n",
    "   "
   ]
  },
  {
   "cell_type": "code",
   "execution_count": 13,
   "id": "713a266c",
   "metadata": {},
   "outputs": [],
   "source": [
    "#Printing squares of odd numbers from 1 to 100"
   ]
  },
  {
   "cell_type": "code",
   "execution_count": 14,
   "id": "da794f9c",
   "metadata": {},
   "outputs": [
    {
     "name": "stdout",
     "output_type": "stream",
     "text": [
      "sqaure of 1 is 1\n",
      "sqaure of 3 is 9\n",
      "sqaure of 5 is 25\n",
      "sqaure of 7 is 49\n",
      "sqaure of 9 is 81\n",
      "sqaure of 11 is 121\n",
      "sqaure of 13 is 169\n",
      "sqaure of 15 is 225\n",
      "sqaure of 17 is 289\n",
      "sqaure of 19 is 361\n",
      "sqaure of 21 is 441\n",
      "sqaure of 23 is 529\n",
      "sqaure of 25 is 625\n",
      "sqaure of 27 is 729\n",
      "sqaure of 29 is 841\n",
      "sqaure of 31 is 961\n",
      "sqaure of 33 is 1089\n",
      "sqaure of 35 is 1225\n",
      "sqaure of 37 is 1369\n",
      "sqaure of 39 is 1521\n",
      "sqaure of 41 is 1681\n",
      "sqaure of 43 is 1849\n",
      "sqaure of 45 is 2025\n",
      "sqaure of 47 is 2209\n",
      "sqaure of 49 is 2401\n",
      "sqaure of 51 is 2601\n",
      "sqaure of 53 is 2809\n",
      "sqaure of 55 is 3025\n",
      "sqaure of 57 is 3249\n",
      "sqaure of 59 is 3481\n",
      "sqaure of 61 is 3721\n",
      "sqaure of 63 is 3969\n",
      "sqaure of 65 is 4225\n",
      "sqaure of 67 is 4489\n",
      "sqaure of 69 is 4761\n",
      "sqaure of 71 is 5041\n",
      "sqaure of 73 is 5329\n",
      "sqaure of 75 is 5625\n",
      "sqaure of 77 is 5929\n",
      "sqaure of 79 is 6241\n",
      "sqaure of 81 is 6561\n",
      "sqaure of 83 is 6889\n",
      "sqaure of 85 is 7225\n",
      "sqaure of 87 is 7569\n",
      "sqaure of 89 is 7921\n",
      "sqaure of 91 is 8281\n",
      "sqaure of 93 is 8649\n",
      "sqaure of 95 is 9025\n",
      "sqaure of 97 is 9409\n",
      "sqaure of 99 is 9801\n"
     ]
    }
   ],
   "source": [
    "x=range(101)\n",
    "for i in x:\n",
    "    if i%2!=0:\n",
    "        print(f'sqaure of {i} is {i*i}')"
   ]
  },
  {
   "cell_type": "markdown",
   "id": "fa3a1f0f",
   "metadata": {},
   "source": [
    "## While Loop"
   ]
  },
  {
   "cell_type": "code",
   "execution_count": 15,
   "id": "9cba6c43",
   "metadata": {},
   "outputs": [
    {
     "name": "stdout",
     "output_type": "stream",
     "text": [
      "5\n",
      "6\n",
      "7\n",
      "8\n",
      "9\n"
     ]
    }
   ],
   "source": [
    "i=5\n",
    "while i<10:\n",
    "    print(i)\n",
    "    i=i+1"
   ]
  },
  {
   "cell_type": "code",
   "execution_count": 16,
   "id": "212cfa11",
   "metadata": {},
   "outputs": [
    {
     "name": "stdout",
     "output_type": "stream",
     "text": [
      "sqaure of 0 is 0\n",
      "sqaure of 1 is 1\n",
      "sqaure of 2 is 4\n",
      "sqaure of 3 is 9\n",
      "sqaure of 4 is 16\n",
      "sqaure of 5 is 25\n",
      "sqaure of 6 is 36\n",
      "sqaure of 7 is 49\n",
      "sqaure of 8 is 64\n",
      "sqaure of 9 is 81\n",
      "sqaure of 10 is 100\n"
     ]
    }
   ],
   "source": [
    "#Printing square from 1 to 10\n",
    "i=0\n",
    "while i<=10:\n",
    "    print(f'sqaure of {i} is {i*i}')\n",
    "    i=i+1"
   ]
  },
  {
   "cell_type": "code",
   "execution_count": 17,
   "id": "cf364967",
   "metadata": {},
   "outputs": [
    {
     "name": "stdout",
     "output_type": "stream",
     "text": [
      "sqaure of even num 0 is 0\n",
      "sqaure of even num 2 is 4\n",
      "sqaure of even num 4 is 16\n",
      "sqaure of even num 6 is 36\n",
      "sqaure of even num 8 is 64\n",
      "sqaure of even num 10 is 100\n"
     ]
    }
   ],
   "source": [
    "#Printing square of even num from 1 to 10\n",
    "i=0\n",
    "while i<=10:\n",
    "    if i%2==0:\n",
    "        print(f'sqaure of even num {i} is {i*i}')\n",
    "    i=i+1\n"
   ]
  },
  {
   "cell_type": "code",
   "execution_count": 18,
   "id": "0753026d",
   "metadata": {},
   "outputs": [],
   "source": [
    "#Printing square of odd num from 1 to 10"
   ]
  },
  {
   "cell_type": "code",
   "execution_count": 19,
   "id": "9813764b",
   "metadata": {},
   "outputs": [
    {
     "name": "stdout",
     "output_type": "stream",
     "text": [
      "sqaure of odd num 1 is 1\n",
      "sqaure of odd num 3 is 9\n",
      "sqaure of odd num 5 is 25\n",
      "sqaure of odd num 7 is 49\n",
      "sqaure of odd num 9 is 81\n"
     ]
    }
   ],
   "source": [
    "i=0\n",
    "while i<=10:\n",
    "    if i%2!=0:\n",
    "        print(f'sqaure of odd num {i} is {i*i}')\n",
    "    i=i+1"
   ]
  },
  {
   "cell_type": "code",
   "execution_count": 20,
   "id": "aed668ac",
   "metadata": {},
   "outputs": [
    {
     "name": "stdout",
     "output_type": "stream",
     "text": [
      "enter your namesoma\n",
      "enter password1234\n",
      "login failed\n"
     ]
    }
   ],
   "source": [
    "# while loop for access permission\n",
    "user_id=input('enter your name')\n",
    "password=int(input('enter password'))\n",
    "if user_id=='abcd' and password==1234:\n",
    "    print('login success')\n",
    "else:\n",
    "    print('login failed')"
   ]
  },
  {
   "cell_type": "markdown",
   "id": "bed1279e",
   "metadata": {},
   "source": [
    "### Using IF-ELSE with `while` Loop"
   ]
  },
  {
   "cell_type": "code",
   "execution_count": null,
   "id": "bcb0965e",
   "metadata": {},
   "outputs": [
    {
     "name": "stdout",
     "output_type": "stream",
     "text": [
      "enter your nameabcd\n",
      "enter password1234\n",
      "login success\n",
      "enter your namesoma\n",
      "enter password15336\n",
      "login failed\n"
     ]
    }
   ],
   "source": [
    "while True:\n",
    "    user_id=input('enter your name')\n",
    "    password=int(input('enter password'))\n",
    "    if user_id=='abcd' and password==1234:\n",
    "        print('login success')\n",
    "    else:\n",
    "        print('login failed')"
   ]
  },
  {
   "cell_type": "markdown",
   "id": "53762d80",
   "metadata": {},
   "source": [
    "## You gotta use your python skills to help your local shopkeeper calculate the Net Price for his shop's product provided below along with it's respective GST slab"
   ]
  },
  {
   "cell_type": "markdown",
   "id": "42dbc08f",
   "metadata": {},
   "source": [
    "GST Amount = ( Original Cost * GST ) / 100\n",
    "\n",
    "Net Price = Original Cost + GST Amount"
   ]
  },
  {
   "cell_type": "markdown",
   "id": "a2e948d2",
   "metadata": {},
   "source": [
    "Product Cost / GST Slab\n",
    "\n",
    "Product1- 1000 / 18%\n",
    "\n",
    "Product2- 250 / 18%\n",
    "\n",
    "Product3- 125 / 5%\n",
    "\n",
    "Product4- 345 / 18%\n",
    "\n",
    "Product5- 820 / 12%\n",
    "\n",
    "Product6- 980 / 5%\n",
    "\n",
    "Product7- 500 / 12%"
   ]
  },
  {
   "cell_type": "code",
   "execution_count": null,
   "id": "cfbe8fdf",
   "metadata": {},
   "outputs": [],
   "source": [
    "# Hint Create a dictionary and loop"
   ]
  },
  {
   "cell_type": "code",
   "execution_count": null,
   "id": "1fb8cfd5",
   "metadata": {},
   "outputs": [],
   "source": [
    "product_gst_slab={soma\n",
    "                  'product1':18,'product2':18,'product3':5,'product4':18,'product5':12,'product6':5,'product7':1}\n",
    "product_original_cost={'product1':1000,'product2':250,'product3':125,'product4':345,'product5':820,'product6':980,'product7':500}\n",
    "product_gst_slab.keys()"
   ]
  },
  {
   "cell_type": "code",
   "execution_count": null,
   "id": "30f1003d",
   "metadata": {},
   "outputs": [],
   "source": [
    "for i in product_gst_slab.keys():\n",
    "    gst_amount=(product_original_cost[i]*product_gst_slab[i])/100\n",
    "    net_price=(product_original_cost[i]+gst_amount)\n",
    "    print('the net price of {} at gst {} is {}'.format(i,product_gst_slab[i],net_price))"
   ]
  },
  {
   "cell_type": "markdown",
   "id": "7f6ff590",
   "metadata": {},
   "source": [
    "# User defined functions"
   ]
  },
  {
   "cell_type": "code",
   "execution_count": null,
   "id": "535e89b8",
   "metadata": {},
   "outputs": [],
   "source": [
    "# # define a function that takes an input, squares it, adds 7, then returns the answer"
   ]
  },
  {
   "cell_type": "code",
   "execution_count": null,
   "id": "dd391669",
   "metadata": {},
   "outputs": [],
   "source": [
    "def soma():\n",
    "    print(\"hey soma\")\n",
    "    \n",
    "    \n",
    "soma()"
   ]
  },
  {
   "cell_type": "code",
   "execution_count": null,
   "id": "442986c7",
   "metadata": {},
   "outputs": [],
   "source": [
    "def math(x):\n",
    "    y=x*x\n",
    "    z=y+7\n",
    "    return(z)\n",
    "\n",
    "\n",
    "math(7)"
   ]
  },
  {
   "cell_type": "code",
   "execution_count": null,
   "id": "1f62ab18",
   "metadata": {},
   "outputs": [],
   "source": [
    "# Write a function to add and subtract two variables"
   ]
  },
  {
   "cell_type": "code",
   "execution_count": null,
   "id": "df529143",
   "metadata": {},
   "outputs": [],
   "source": [
    "def math_fun(x,y):\n",
    "    add=x+y\n",
    "    sub=x-y\n",
    "    return(add,sub)\n",
    "\n",
    "\n",
    "math_fun(10,20)"
   ]
  },
  {
   "cell_type": "code",
   "execution_count": null,
   "id": "62461392",
   "metadata": {},
   "outputs": [],
   "source": [
    "def evenodd(x):\n",
    "    if x%2==0:\n",
    "        print(\"even\")\n",
    "    else:\n",
    "        print(\"odd\")\n",
    "        \n",
    "        \n",
    "evenodd(67)"
   ]
  },
  {
   "cell_type": "code",
   "execution_count": null,
   "id": "f716e77f",
   "metadata": {},
   "outputs": [],
   "source": [
    "### Write a UDF that returns true if the input is a prime number and False otherwise."
   ]
  },
  {
   "cell_type": "code",
   "execution_count": null,
   "id": "5894ec70",
   "metadata": {},
   "outputs": [],
   "source": [
    "def prime(x):\n",
    "    if (x==1):\n",
    "        return False\n",
    "    elif (x==2):\n",
    "        return True\n",
    "    else:\n",
    "        for a in range (2,x):\n",
    "            if (x%a==0):\n",
    "                return False\n",
    "    return True\n",
    "        \n",
    "  "
   ]
  },
  {
   "cell_type": "code",
   "execution_count": null,
   "id": "af81b358",
   "metadata": {},
   "outputs": [],
   "source": [
    "prime(58)"
   ]
  },
  {
   "cell_type": "code",
   "execution_count": null,
   "id": "aacf5752",
   "metadata": {},
   "outputs": [],
   "source": [
    "def is_prime(n):\n",
    "    if n < 2:\n",
    "        return False\n",
    "    elif n == 2:\n",
    "        return True\n",
    "    for i in range(2, n//2+1):\n",
    "        if n % i == 0:\n",
    "            return False\n",
    "\n",
    "    return True\n",
    "\n",
    "is_prime(55)"
   ]
  },
  {
   "cell_type": "code",
   "execution_count": null,
   "id": "04a1b3d4",
   "metadata": {},
   "outputs": [],
   "source": [
    "### Write a UDF that takes a list as input and returns the reverse list."
   ]
  },
  {
   "cell_type": "code",
   "execution_count": null,
   "id": "8c5d43bf",
   "metadata": {},
   "outputs": [],
   "source": [
    "def reversing(list):\n",
    "    list.reverse()\n",
    "    return lst\n",
    "\n",
    "lst=[12,54,678,44,77]\n"
   ]
  },
  {
   "cell_type": "code",
   "execution_count": null,
   "id": "a6c1732f",
   "metadata": {},
   "outputs": [],
   "source": [
    "reversing(lst)"
   ]
  },
  {
   "cell_type": "code",
   "execution_count": null,
   "id": "6981ead9",
   "metadata": {},
   "outputs": [],
   "source": [
    "## lambda function\n",
    "\n",
    "lamx2p7=lambda x: x*x+7\n",
    "print(lamx2p7(3))"
   ]
  },
  {
   "cell_type": "code",
   "execution_count": null,
   "id": "681dd349",
   "metadata": {},
   "outputs": [],
   "source": [
    "lam1= lambda x,y,z: x*y + y*z + y/z\n",
    "print(lam1(1,6,2))"
   ]
  },
  {
   "cell_type": "code",
   "execution_count": null,
   "id": "01ef4ca9",
   "metadata": {},
   "outputs": [],
   "source": [
    "print(lam1(8,6,2))"
   ]
  },
  {
   "cell_type": "code",
   "execution_count": null,
   "id": "e3c1e88b",
   "metadata": {},
   "outputs": [],
   "source": []
  }
 ],
 "metadata": {
  "kernelspec": {
   "display_name": "Python 3 (ipykernel)",
   "language": "python",
   "name": "python3"
  },
  "language_info": {
   "codemirror_mode": {
    "name": "ipython",
    "version": 3
   },
   "file_extension": ".py",
   "mimetype": "text/x-python",
   "name": "python",
   "nbconvert_exporter": "python",
   "pygments_lexer": "ipython3",
   "version": "3.9.13"
  }
 },
 "nbformat": 4,
 "nbformat_minor": 5
}
