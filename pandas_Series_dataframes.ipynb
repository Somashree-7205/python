{
 "cells": [
  {
   "cell_type": "markdown",
   "metadata": {},
   "source": [
    "# Pandas\n",
    "\n",
    "Pandas is a package used for managing data.\n",
    "\n",
    "Pandas main use is that it creates 2 new data types for storing data: series and dataframe.\n",
    "\n",
    "Think of a pandas dataframe like an excel spreadsheet that is storing some data.  One column can have customer name, one column can have product sold name, another column can have price or quantity... Then the rows could be individual sales.\n",
    "\n",
    "A dataframe is made up of several series.  Each column of a dataframe is a series.\n",
    "\n",
    "We can name each column and row of a dataframe.\n",
    "\n",
    "A pandas dataframe is very similar to a data.frame in R.\n",
    "\n",
    "Similar to numpy arrays, a dataframe is a more robust data type for storing data than lists of lists. Dataframes are more flexible than numpy arrays.\n",
    "\n",
    "A numpy array can create a matrix with all entries of the same data type.  In a dataframe each column can have its own datatype.  \n",
    "\n",
    "That's not to say numpy arrays aren't useful.  It is often easiest to convert some subset of a dataframe to a numpy array and then use that to do some math.\n",
    "\n",
    "Pandas also has SQL-like functions for merging, joining, and sorting dataframes.\n",
    "\n"
   ]
  },
  {
   "cell_type": "code",
   "execution_count": 1,
   "metadata": {},
   "outputs": [],
   "source": [
    "import pandas as pd\n",
    "import numpy as np         # numpy is not necessary for pandas, but we will use some np code in this example\n",
    "                           # in general it's good practice to import all pacakages at the beginning"
   ]
  },
  {
   "cell_type": "code",
   "execution_count": 2,
   "metadata": {},
   "outputs": [],
   "source": [
    "# first let's look at series - think of this as a single column of a spreadsheet\n",
    "# each entry in a series corresponds to an individual row in the spreadsheet\n",
    "\n",
    "\n",
    "mylist = [5.4,6.1,1.7,99.8]\n",
    "myarray = np.array(mylist)\n"
   ]
  },
  {
   "cell_type": "code",
   "execution_count": 3,
   "metadata": {},
   "outputs": [
    {
     "name": "stdout",
     "output_type": "stream",
     "text": [
      "[ 5.4  6.1  1.7 99.8]\n"
     ]
    }
   ],
   "source": [
    "print(myarray)"
   ]
  },
  {
   "cell_type": "code",
   "execution_count": 5,
   "metadata": {
    "scrolled": true
   },
   "outputs": [
    {
     "name": "stdout",
     "output_type": "stream",
     "text": [
      "0     5.4\n",
      "1     6.1\n",
      "2     1.7\n",
      "3    99.8\n",
      "dtype: float64\n",
      "0     5.4\n",
      "1     6.1\n",
      "2     1.7\n",
      "3    99.8\n",
      "dtype: float64\n"
     ]
    }
   ],
   "source": [
    "# we can create a series by converting a list, or numpy array\n",
    "myseries1 = pd.Series(mylist)\n",
    "print(myseries1)\n",
    "myseries2 = pd.Series(myarray)\n",
    "print(myseries2)"
   ]
  },
  {
   "cell_type": "code",
   "execution_count": 25,
   "metadata": {},
   "outputs": [
    {
     "data": {
      "text/html": [
       "<div>\n",
       "<style scoped>\n",
       "    .dataframe tbody tr th:only-of-type {\n",
       "        vertical-align: middle;\n",
       "    }\n",
       "\n",
       "    .dataframe tbody tr th {\n",
       "        vertical-align: top;\n",
       "    }\n",
       "\n",
       "    .dataframe thead th {\n",
       "        text-align: right;\n",
       "    }\n",
       "</style>\n",
       "<table border=\"1\" class=\"dataframe\">\n",
       "  <thead>\n",
       "    <tr style=\"text-align: right;\">\n",
       "      <th></th>\n",
       "      <th>name</th>\n",
       "      <th>marks</th>\n",
       "      <th>city</th>\n",
       "    </tr>\n",
       "  </thead>\n",
       "  <tbody>\n",
       "    <tr>\n",
       "      <th>0</th>\n",
       "      <td>soma</td>\n",
       "      <td>80</td>\n",
       "      <td>bihar</td>\n",
       "    </tr>\n",
       "    <tr>\n",
       "      <th>1</th>\n",
       "      <td>liza</td>\n",
       "      <td>67</td>\n",
       "      <td>bbsr</td>\n",
       "    </tr>\n",
       "    <tr>\n",
       "      <th>2</th>\n",
       "      <td>lulu</td>\n",
       "      <td>94</td>\n",
       "      <td>ctc</td>\n",
       "    </tr>\n",
       "    <tr>\n",
       "      <th>3</th>\n",
       "      <td>dilu</td>\n",
       "      <td>57</td>\n",
       "      <td>ranchi</td>\n",
       "    </tr>\n",
       "  </tbody>\n",
       "</table>\n",
       "</div>"
      ],
      "text/plain": [
       "   name  marks    city\n",
       "0  soma     80   bihar\n",
       "1  liza     67    bbsr\n",
       "2  lulu     94     ctc\n",
       "3  dilu     57  ranchi"
      ]
     },
     "execution_count": 25,
     "metadata": {},
     "output_type": "execute_result"
    }
   ],
   "source": [
    "dict1= {\"name\":[\"soma\",\"liza\",\"lulu\",\"dilu\"], \n",
    "        \"marks\":[80,67,94,57],\n",
    "        \"city\":[\"bihar\",\"bbsr\",\"ctc\",\"ranchi\"]\n",
    "}\n",
    "df= pd.DataFrame(dict1)\n",
    "df"
   ]
  },
  {
   "cell_type": "code",
   "execution_count": 6,
   "metadata": {
    "scrolled": true
   },
   "outputs": [
    {
     "name": "stdout",
     "output_type": "stream",
     "text": [
      "0      1.0\n",
      "1     12.0\n",
      "2     23.0\n",
      "3     34.0\n",
      "4     45.0\n",
      "5     56.0\n",
      "6     67.0\n",
      "7     78.0\n",
      "8     89.0\n",
      "9    100.0\n",
      "dtype: float64\n"
     ]
    }
   ],
   "source": [
    "# series with numpy linspace()\n",
    "ser1 = pd.Series(np.linspace(1, 100, 10))\n",
    "print(ser1)"
   ]
  },
  {
   "cell_type": "code",
   "execution_count": 7,
   "metadata": {
    "scrolled": true
   },
   "outputs": [
    {
     "name": "stdout",
     "output_type": "stream",
     "text": [
      "0    0\n",
      "1    1\n",
      "2    2\n",
      "3    3\n",
      "4    4\n",
      "5    5\n",
      "6    6\n",
      "7    7\n",
      "8    8\n",
      "9    9\n",
      "dtype: int64\n"
     ]
    }
   ],
   "source": [
    "ser=pd.Series(range(10))\n",
    "print(ser)"
   ]
  },
  {
   "cell_type": "code",
   "execution_count": 8,
   "metadata": {
    "scrolled": true
   },
   "outputs": [
    {
     "name": "stdout",
     "output_type": "stream",
     "text": [
      "a     1\n",
      "b     4\n",
      "c     7\n",
      "d    10\n",
      "e    13\n",
      "f    16\n",
      "g    19\n",
      "dtype: int64\n"
     ]
    }
   ],
   "source": [
    "ser=pd.Series(range(1,20,3), index=[x for x in 'abcdefg'])\n",
    "print(ser)"
   ]
  },
  {
   "cell_type": "code",
   "execution_count": 9,
   "metadata": {},
   "outputs": [
    {
     "data": {
      "text/plain": [
       "16"
      ]
     },
     "execution_count": 9,
     "metadata": {},
     "output_type": "execute_result"
    }
   ],
   "source": [
    "ser[\"f\"]"
   ]
  },
  {
   "cell_type": "code",
   "execution_count": 10,
   "metadata": {
    "scrolled": true
   },
   "outputs": [
    {
     "name": "stdout",
     "output_type": "stream",
     "text": [
      "10    50\n",
      "11    55\n",
      "12    60\n",
      "13    65\n",
      "14    70\n",
      "dtype: int32\n"
     ]
    }
   ],
   "source": [
    "ser=np.arange(10,15)\n",
    "serobj=pd.Series(data=ser*5,index=ser)\n",
    "print(serobj)"
   ]
  },
  {
   "cell_type": "code",
   "execution_count": 11,
   "metadata": {},
   "outputs": [
    {
     "name": "stdout",
     "output_type": "stream",
     "text": [
      "0     5.4\n",
      "1     6.1\n",
      "2     1.7\n",
      "3    99.8\n",
      "dtype: float64\n"
     ]
    }
   ],
   "source": [
    "print(myseries1)"
   ]
  },
  {
   "cell_type": "code",
   "execution_count": 12,
   "metadata": {},
   "outputs": [
    {
     "name": "stdout",
     "output_type": "stream",
     "text": [
      "1.7\n"
     ]
    }
   ],
   "source": [
    "# we access individual entries the same way as with lists and arrays\n",
    "print(myseries1[2])"
   ]
  },
  {
   "cell_type": "code",
   "execution_count": 13,
   "metadata": {},
   "outputs": [
    {
     "name": "stdout",
     "output_type": "stream",
     "text": [
      "first      5.4\n",
      "second     6.1\n",
      "third      1.7\n",
      "fourth    99.8\n",
      "dtype: float64\n"
     ]
    }
   ],
   "source": [
    "# we can add labels to the entries of a series\n",
    "\n",
    "mylabels = ['first','second','third','fourth']\n",
    "myseries3 = pd.Series(data=mylist,index=mylabels)\n",
    "print(myseries3)"
   ]
  },
  {
   "cell_type": "code",
   "execution_count": 14,
   "metadata": {},
   "outputs": [
    {
     "name": "stdout",
     "output_type": "stream",
     "text": [
      "first      5.4\n",
      "second     6.1\n",
      "third      1.7\n",
      "fourth    99.8\n",
      "dtype: float64\n"
     ]
    }
   ],
   "source": [
    "# we need not be explicit about the entries of pd.Series\n",
    "myseries4 = pd.Series(mylist,mylabels)\n",
    "print(myseries4)"
   ]
  },
  {
   "cell_type": "code",
   "execution_count": 15,
   "metadata": {},
   "outputs": [
    {
     "name": "stdout",
     "output_type": "stream",
     "text": [
      "6.1\n"
     ]
    }
   ],
   "source": [
    "# we can also access entries using the index labels\n",
    "print(myseries4['second'])"
   ]
  },
  {
   "cell_type": "code",
   "execution_count": 16,
   "metadata": {},
   "outputs": [
    {
     "name": "stdout",
     "output_type": "stream",
     "text": [
      "first     5.5\n",
      "third     1.1\n",
      "fourth    8.8\n",
      "fifth     1.6\n",
      "dtype: float64\n",
      "\n",
      "fifth       NaN\n",
      "first      10.9\n",
      "fourth    108.6\n",
      "second      NaN\n",
      "third       2.8\n",
      "dtype: float64\n"
     ]
    }
   ],
   "source": [
    "# we can do math on series \n",
    "myseries5 = pd.Series([5.5,1.1,8.8,1.6],['first','third','fourth','fifth'])\n",
    "print(myseries5)\n",
    "print('')\n",
    "print(myseries5+myseries4)"
   ]
  },
  {
   "cell_type": "code",
   "execution_count": 17,
   "metadata": {},
   "outputs": [
    {
     "data": {
      "text/html": [
       "<div>\n",
       "<style scoped>\n",
       "    .dataframe tbody tr th:only-of-type {\n",
       "        vertical-align: middle;\n",
       "    }\n",
       "\n",
       "    .dataframe tbody tr th {\n",
       "        vertical-align: top;\n",
       "    }\n",
       "\n",
       "    .dataframe thead th {\n",
       "        text-align: right;\n",
       "    }\n",
       "</style>\n",
       "<table border=\"1\" class=\"dataframe\">\n",
       "  <thead>\n",
       "    <tr style=\"text-align: right;\">\n",
       "      <th></th>\n",
       "      <th>0</th>\n",
       "      <th>1</th>\n",
       "    </tr>\n",
       "  </thead>\n",
       "  <tbody>\n",
       "    <tr>\n",
       "      <th>first</th>\n",
       "      <td>5.4</td>\n",
       "      <td>5.5</td>\n",
       "    </tr>\n",
       "    <tr>\n",
       "      <th>second</th>\n",
       "      <td>6.1</td>\n",
       "      <td>NaN</td>\n",
       "    </tr>\n",
       "    <tr>\n",
       "      <th>third</th>\n",
       "      <td>1.7</td>\n",
       "      <td>1.1</td>\n",
       "    </tr>\n",
       "    <tr>\n",
       "      <th>fourth</th>\n",
       "      <td>99.8</td>\n",
       "      <td>8.8</td>\n",
       "    </tr>\n",
       "    <tr>\n",
       "      <th>fifth</th>\n",
       "      <td>NaN</td>\n",
       "      <td>1.6</td>\n",
       "    </tr>\n",
       "  </tbody>\n",
       "</table>\n",
       "</div>"
      ],
      "text/plain": [
       "           0    1\n",
       "first    5.4  5.5\n",
       "second   6.1  NaN\n",
       "third    1.7  1.1\n",
       "fourth  99.8  8.8\n",
       "fifth    NaN  1.6"
      ]
     },
     "execution_count": 17,
     "metadata": {},
     "output_type": "execute_result"
    }
   ],
   "source": [
    "# we can combine series to create a dataframe using the concat function\n",
    "df1 = pd.concat([myseries4,myseries5],axis=1,sort=False)\n",
    "df1"
   ]
  },
  {
   "cell_type": "code",
   "execution_count": 20,
   "metadata": {},
   "outputs": [
    {
     "data": {
      "text/html": [
       "<div>\n",
       "<style scoped>\n",
       "    .dataframe tbody tr th:only-of-type {\n",
       "        vertical-align: middle;\n",
       "    }\n",
       "\n",
       "    .dataframe tbody tr th {\n",
       "        vertical-align: top;\n",
       "    }\n",
       "\n",
       "    .dataframe thead th {\n",
       "        text-align: right;\n",
       "    }\n",
       "</style>\n",
       "<table border=\"1\" class=\"dataframe\">\n",
       "  <thead>\n",
       "    <tr style=\"text-align: right;\">\n",
       "      <th></th>\n",
       "      <th>0</th>\n",
       "      <th>1</th>\n",
       "      <th>2</th>\n",
       "    </tr>\n",
       "  </thead>\n",
       "  <tbody>\n",
       "    <tr>\n",
       "      <th>0</th>\n",
       "      <td>-0.328051</td>\n",
       "      <td>0.046601</td>\n",
       "      <td>0.543159</td>\n",
       "    </tr>\n",
       "    <tr>\n",
       "      <th>1</th>\n",
       "      <td>2.202605</td>\n",
       "      <td>-0.268311</td>\n",
       "      <td>0.334640</td>\n",
       "    </tr>\n",
       "    <tr>\n",
       "      <th>2</th>\n",
       "      <td>-0.450993</td>\n",
       "      <td>0.761685</td>\n",
       "      <td>1.817330</td>\n",
       "    </tr>\n",
       "  </tbody>\n",
       "</table>\n",
       "</div>"
      ],
      "text/plain": [
       "          0         1         2\n",
       "0 -0.328051  0.046601  0.543159\n",
       "1  2.202605 -0.268311  0.334640\n",
       "2 -0.450993  0.761685  1.817330"
      ]
     },
     "execution_count": 20,
     "metadata": {},
     "output_type": "execute_result"
    }
   ],
   "source": [
    "# we can create a new dataframe \n",
    "\n",
    "\n",
    "df2 = pd.DataFrame(np.zrandom.randn(3,3))\n",
    "df2"
   ]
  },
  {
   "cell_type": "code",
   "execution_count": 21,
   "metadata": {},
   "outputs": [
    {
     "data": {
      "text/html": [
       "<div>\n",
       "<style scoped>\n",
       "    .dataframe tbody tr th:only-of-type {\n",
       "        vertical-align: middle;\n",
       "    }\n",
       "\n",
       "    .dataframe tbody tr th {\n",
       "        vertical-align: top;\n",
       "    }\n",
       "\n",
       "    .dataframe thead th {\n",
       "        text-align: right;\n",
       "    }\n",
       "</style>\n",
       "<table border=\"1\" class=\"dataframe\">\n",
       "  <thead>\n",
       "    <tr style=\"text-align: right;\">\n",
       "      <th></th>\n",
       "      <th>first col</th>\n",
       "      <th>second col</th>\n",
       "      <th>third col</th>\n",
       "      <th>fourth col</th>\n",
       "      <th>fifth col</th>\n",
       "    </tr>\n",
       "  </thead>\n",
       "  <tbody>\n",
       "    <tr>\n",
       "      <th>first row</th>\n",
       "      <td>0.756146</td>\n",
       "      <td>-0.320524</td>\n",
       "      <td>-0.569487</td>\n",
       "      <td>-0.928954</td>\n",
       "      <td>0.046244</td>\n",
       "    </tr>\n",
       "    <tr>\n",
       "      <th>second row</th>\n",
       "      <td>-0.425572</td>\n",
       "      <td>-0.664563</td>\n",
       "      <td>-1.849704</td>\n",
       "      <td>-1.924414</td>\n",
       "      <td>-1.573605</td>\n",
       "    </tr>\n",
       "    <tr>\n",
       "      <th>third row</th>\n",
       "      <td>-0.290872</td>\n",
       "      <td>0.046804</td>\n",
       "      <td>-0.466326</td>\n",
       "      <td>0.994540</td>\n",
       "      <td>0.745292</td>\n",
       "    </tr>\n",
       "    <tr>\n",
       "      <th>fourth row</th>\n",
       "      <td>-0.574340</td>\n",
       "      <td>-0.293318</td>\n",
       "      <td>1.053727</td>\n",
       "      <td>-0.068066</td>\n",
       "      <td>-1.815182</td>\n",
       "    </tr>\n",
       "    <tr>\n",
       "      <th>fifth row</th>\n",
       "      <td>0.903026</td>\n",
       "      <td>0.822038</td>\n",
       "      <td>-0.282931</td>\n",
       "      <td>-0.431429</td>\n",
       "      <td>-0.508004</td>\n",
       "    </tr>\n",
       "  </tbody>\n",
       "</table>\n",
       "</div>"
      ],
      "text/plain": [
       "            first col  second col  third col  fourth col  fifth col\n",
       "first row    0.756146   -0.320524  -0.569487   -0.928954   0.046244\n",
       "second row  -0.425572   -0.664563  -1.849704   -1.924414  -1.573605\n",
       "third row   -0.290872    0.046804  -0.466326    0.994540   0.745292\n",
       "fourth row  -0.574340   -0.293318   1.053727   -0.068066  -1.815182\n",
       "fifth row    0.903026    0.822038  -0.282931   -0.431429  -0.508004"
      ]
     },
     "execution_count": 21,
     "metadata": {},
     "output_type": "execute_result"
    }
   ],
   "source": [
    "# lets give labels to rows and columns\n",
    "\n",
    "df3 = pd.DataFrame(np.random.randn(5,5),index=['first row','second row','third row','fourth row','fifth row'],\n",
    "                   columns=['first col','second col','third col','fourth col','fifth col'])\n",
    "df3"
   ]
  },
  {
   "cell_type": "code",
   "execution_count": 22,
   "metadata": {},
   "outputs": [
    {
     "name": "stdout",
     "output_type": "stream",
     "text": [
      "first row    -0.320524\n",
      "second row   -0.664563\n",
      "third row     0.046804\n",
      "fourth row   -0.293318\n",
      "fifth row     0.822038\n",
      "Name: second col, dtype: float64\n",
      "\n"
     ]
    },
    {
     "data": {
      "text/html": [
       "<div>\n",
       "<style scoped>\n",
       "    .dataframe tbody tr th:only-of-type {\n",
       "        vertical-align: middle;\n",
       "    }\n",
       "\n",
       "    .dataframe tbody tr th {\n",
       "        vertical-align: top;\n",
       "    }\n",
       "\n",
       "    .dataframe thead th {\n",
       "        text-align: right;\n",
       "    }\n",
       "</style>\n",
       "<table border=\"1\" class=\"dataframe\">\n",
       "  <thead>\n",
       "    <tr style=\"text-align: right;\">\n",
       "      <th></th>\n",
       "      <th>third col</th>\n",
       "      <th>first col</th>\n",
       "    </tr>\n",
       "  </thead>\n",
       "  <tbody>\n",
       "    <tr>\n",
       "      <th>first row</th>\n",
       "      <td>-0.569487</td>\n",
       "      <td>0.756146</td>\n",
       "    </tr>\n",
       "    <tr>\n",
       "      <th>second row</th>\n",
       "      <td>-1.849704</td>\n",
       "      <td>-0.425572</td>\n",
       "    </tr>\n",
       "    <tr>\n",
       "      <th>third row</th>\n",
       "      <td>-0.466326</td>\n",
       "      <td>-0.290872</td>\n",
       "    </tr>\n",
       "    <tr>\n",
       "      <th>fourth row</th>\n",
       "      <td>1.053727</td>\n",
       "      <td>-0.574340</td>\n",
       "    </tr>\n",
       "    <tr>\n",
       "      <th>fifth row</th>\n",
       "      <td>-0.282931</td>\n",
       "      <td>0.903026</td>\n",
       "    </tr>\n",
       "  </tbody>\n",
       "</table>\n",
       "</div>"
      ],
      "text/plain": [
       "            third col  first col\n",
       "first row   -0.569487   0.756146\n",
       "second row  -1.849704  -0.425572\n",
       "third row   -0.466326  -0.290872\n",
       "fourth row   1.053727  -0.574340\n",
       "fifth row   -0.282931   0.903026"
      ]
     },
     "execution_count": 22,
     "metadata": {},
     "output_type": "execute_result"
    }
   ],
   "source": [
    "# we can access individual series in a data frame\n",
    "print(df3['second col'])\n",
    "print('')\n",
    "df3[['third col','first col']]"
   ]
  },
  {
   "cell_type": "code",
   "execution_count": 23,
   "metadata": {},
   "outputs": [
    {
     "data": {
      "text/plain": [
       "first col    -0.574340\n",
       "second col   -0.293318\n",
       "third col     1.053727\n",
       "fourth col   -0.068066\n",
       "fifth col    -1.815182\n",
       "Name: fourth row, dtype: float64"
      ]
     },
     "execution_count": 23,
     "metadata": {},
     "output_type": "execute_result"
    }
   ],
   "source": [
    "# we can access rows of a dataframe\n",
    "df3.loc['fourth row']"
   ]
  },
  {
   "cell_type": "code",
   "execution_count": 24,
   "metadata": {},
   "outputs": [
    {
     "data": {
      "text/plain": [
       "first col    -0.290872\n",
       "second col    0.046804\n",
       "third col    -0.466326\n",
       "fourth col    0.994540\n",
       "fifth col     0.745292\n",
       "Name: third row, dtype: float64"
      ]
     },
     "execution_count": 24,
     "metadata": {},
     "output_type": "execute_result"
    }
   ],
   "source": [
    "df3.iloc[2]"
   ]
  },
  {
   "cell_type": "code",
   "execution_count": null,
   "metadata": {},
   "outputs": [],
   "source": [
    "df3.loc[['fourth row','first row'],['second col','third col']]"
   ]
  },
  {
   "cell_type": "code",
   "execution_count": 26,
   "metadata": {
    "scrolled": false
   },
   "outputs": [
    {
     "data": {
      "text/html": [
       "<div>\n",
       "<style scoped>\n",
       "    .dataframe tbody tr th:only-of-type {\n",
       "        vertical-align: middle;\n",
       "    }\n",
       "\n",
       "    .dataframe tbody tr th {\n",
       "        vertical-align: top;\n",
       "    }\n",
       "\n",
       "    .dataframe thead th {\n",
       "        text-align: right;\n",
       "    }\n",
       "</style>\n",
       "<table border=\"1\" class=\"dataframe\">\n",
       "  <thead>\n",
       "    <tr style=\"text-align: right;\">\n",
       "      <th></th>\n",
       "      <th>first col</th>\n",
       "      <th>second col</th>\n",
       "      <th>third col</th>\n",
       "      <th>fourth col</th>\n",
       "      <th>fifth col</th>\n",
       "    </tr>\n",
       "  </thead>\n",
       "  <tbody>\n",
       "    <tr>\n",
       "      <th>first row</th>\n",
       "      <td>True</td>\n",
       "      <td>False</td>\n",
       "      <td>False</td>\n",
       "      <td>False</td>\n",
       "      <td>True</td>\n",
       "    </tr>\n",
       "    <tr>\n",
       "      <th>second row</th>\n",
       "      <td>False</td>\n",
       "      <td>False</td>\n",
       "      <td>False</td>\n",
       "      <td>False</td>\n",
       "      <td>False</td>\n",
       "    </tr>\n",
       "    <tr>\n",
       "      <th>third row</th>\n",
       "      <td>False</td>\n",
       "      <td>True</td>\n",
       "      <td>False</td>\n",
       "      <td>True</td>\n",
       "      <td>True</td>\n",
       "    </tr>\n",
       "    <tr>\n",
       "      <th>fourth row</th>\n",
       "      <td>False</td>\n",
       "      <td>False</td>\n",
       "      <td>True</td>\n",
       "      <td>False</td>\n",
       "      <td>False</td>\n",
       "    </tr>\n",
       "    <tr>\n",
       "      <th>fifth row</th>\n",
       "      <td>True</td>\n",
       "      <td>True</td>\n",
       "      <td>False</td>\n",
       "      <td>False</td>\n",
       "      <td>False</td>\n",
       "    </tr>\n",
       "  </tbody>\n",
       "</table>\n",
       "</div>"
      ],
      "text/plain": [
       "            first col  second col  third col  fourth col  fifth col\n",
       "first row        True       False      False       False       True\n",
       "second row      False       False      False       False      False\n",
       "third row       False        True      False        True       True\n",
       "fourth row      False       False       True       False      False\n",
       "fifth row        True        True      False       False      False"
      ]
     },
     "execution_count": 26,
     "metadata": {},
     "output_type": "execute_result"
    }
   ],
   "source": [
    "# we can use logical indexing for dataframes just like for numpy arrays\n",
    "df3>0"
   ]
  },
  {
   "cell_type": "code",
   "execution_count": 27,
   "metadata": {},
   "outputs": [
    {
     "name": "stdout",
     "output_type": "stream",
     "text": [
      "            first col  second col  third col  fourth col  fifth col\n",
      "first row    0.756146         NaN        NaN         NaN   0.046244\n",
      "second row        NaN         NaN        NaN         NaN        NaN\n",
      "third row         NaN    0.046804        NaN     0.99454   0.745292\n",
      "fourth row        NaN         NaN   1.053727         NaN        NaN\n",
      "fifth row    0.903026    0.822038        NaN         NaN        NaN\n"
     ]
    }
   ],
   "source": [
    "print(df3[df3>0])"
   ]
  },
  {
   "cell_type": "code",
   "execution_count": 28,
   "metadata": {},
   "outputs": [
    {
     "data": {
      "text/html": [
       "<div>\n",
       "<style scoped>\n",
       "    .dataframe tbody tr th:only-of-type {\n",
       "        vertical-align: middle;\n",
       "    }\n",
       "\n",
       "    .dataframe tbody tr th {\n",
       "        vertical-align: top;\n",
       "    }\n",
       "\n",
       "    .dataframe thead th {\n",
       "        text-align: right;\n",
       "    }\n",
       "</style>\n",
       "<table border=\"1\" class=\"dataframe\">\n",
       "  <thead>\n",
       "    <tr style=\"text-align: right;\">\n",
       "      <th></th>\n",
       "      <th>first col</th>\n",
       "      <th>second col</th>\n",
       "      <th>third col</th>\n",
       "      <th>fourth col</th>\n",
       "      <th>fifth col</th>\n",
       "      <th>sixth col</th>\n",
       "    </tr>\n",
       "  </thead>\n",
       "  <tbody>\n",
       "    <tr>\n",
       "      <th>first row</th>\n",
       "      <td>0.756146</td>\n",
       "      <td>-0.320524</td>\n",
       "      <td>-0.569487</td>\n",
       "      <td>-0.928954</td>\n",
       "      <td>0.046244</td>\n",
       "      <td>-0.850314</td>\n",
       "    </tr>\n",
       "    <tr>\n",
       "      <th>second row</th>\n",
       "      <td>-0.425572</td>\n",
       "      <td>-0.664563</td>\n",
       "      <td>-1.849704</td>\n",
       "      <td>-1.924414</td>\n",
       "      <td>-1.573605</td>\n",
       "      <td>-0.413106</td>\n",
       "    </tr>\n",
       "    <tr>\n",
       "      <th>third row</th>\n",
       "      <td>-0.290872</td>\n",
       "      <td>0.046804</td>\n",
       "      <td>-0.466326</td>\n",
       "      <td>0.994540</td>\n",
       "      <td>0.745292</td>\n",
       "      <td>0.499178</td>\n",
       "    </tr>\n",
       "    <tr>\n",
       "      <th>fourth row</th>\n",
       "      <td>-0.574340</td>\n",
       "      <td>-0.293318</td>\n",
       "      <td>1.053727</td>\n",
       "      <td>-0.068066</td>\n",
       "      <td>-1.815182</td>\n",
       "      <td>-1.431677</td>\n",
       "    </tr>\n",
       "    <tr>\n",
       "      <th>fifth row</th>\n",
       "      <td>0.903026</td>\n",
       "      <td>0.822038</td>\n",
       "      <td>-0.282931</td>\n",
       "      <td>-0.431429</td>\n",
       "      <td>-0.508004</td>\n",
       "      <td>-0.397970</td>\n",
       "    </tr>\n",
       "  </tbody>\n",
       "</table>\n",
       "</div>"
      ],
      "text/plain": [
       "            first col  second col  third col  fourth col  fifth col  sixth col\n",
       "first row    0.756146   -0.320524  -0.569487   -0.928954   0.046244  -0.850314\n",
       "second row  -0.425572   -0.664563  -1.849704   -1.924414  -1.573605  -0.413106\n",
       "third row   -0.290872    0.046804  -0.466326    0.994540   0.745292   0.499178\n",
       "fourth row  -0.574340   -0.293318   1.053727   -0.068066  -1.815182  -1.431677\n",
       "fifth row    0.903026    0.822038  -0.282931   -0.431429  -0.508004  -0.397970"
      ]
     },
     "execution_count": 28,
     "metadata": {},
     "output_type": "execute_result"
    }
   ],
   "source": [
    "# we can add columns to a dataframe\n",
    "df3['sixth col'] = np.random.randn(5,1)\n",
    "df3"
   ]
  },
  {
   "cell_type": "code",
   "execution_count": 29,
   "metadata": {},
   "outputs": [],
   "source": [
    "# we can remove columns or rows from a dataframe\n",
    "df3.drop('first col',axis=1,inplace=True)"
   ]
  },
  {
   "cell_type": "code",
   "execution_count": 30,
   "metadata": {},
   "outputs": [
    {
     "data": {
      "text/html": [
       "<div>\n",
       "<style scoped>\n",
       "    .dataframe tbody tr th:only-of-type {\n",
       "        vertical-align: middle;\n",
       "    }\n",
       "\n",
       "    .dataframe tbody tr th {\n",
       "        vertical-align: top;\n",
       "    }\n",
       "\n",
       "    .dataframe thead th {\n",
       "        text-align: right;\n",
       "    }\n",
       "</style>\n",
       "<table border=\"1\" class=\"dataframe\">\n",
       "  <thead>\n",
       "    <tr style=\"text-align: right;\">\n",
       "      <th></th>\n",
       "      <th>second col</th>\n",
       "      <th>third col</th>\n",
       "      <th>fourth col</th>\n",
       "      <th>fifth col</th>\n",
       "      <th>sixth col</th>\n",
       "    </tr>\n",
       "  </thead>\n",
       "  <tbody>\n",
       "    <tr>\n",
       "      <th>first row</th>\n",
       "      <td>-0.320524</td>\n",
       "      <td>-0.569487</td>\n",
       "      <td>-0.928954</td>\n",
       "      <td>0.046244</td>\n",
       "      <td>-0.850314</td>\n",
       "    </tr>\n",
       "    <tr>\n",
       "      <th>second row</th>\n",
       "      <td>-0.664563</td>\n",
       "      <td>-1.849704</td>\n",
       "      <td>-1.924414</td>\n",
       "      <td>-1.573605</td>\n",
       "      <td>-0.413106</td>\n",
       "    </tr>\n",
       "    <tr>\n",
       "      <th>third row</th>\n",
       "      <td>0.046804</td>\n",
       "      <td>-0.466326</td>\n",
       "      <td>0.994540</td>\n",
       "      <td>0.745292</td>\n",
       "      <td>0.499178</td>\n",
       "    </tr>\n",
       "    <tr>\n",
       "      <th>fourth row</th>\n",
       "      <td>-0.293318</td>\n",
       "      <td>1.053727</td>\n",
       "      <td>-0.068066</td>\n",
       "      <td>-1.815182</td>\n",
       "      <td>-1.431677</td>\n",
       "    </tr>\n",
       "    <tr>\n",
       "      <th>fifth row</th>\n",
       "      <td>0.822038</td>\n",
       "      <td>-0.282931</td>\n",
       "      <td>-0.431429</td>\n",
       "      <td>-0.508004</td>\n",
       "      <td>-0.397970</td>\n",
       "    </tr>\n",
       "  </tbody>\n",
       "</table>\n",
       "</div>"
      ],
      "text/plain": [
       "            second col  third col  fourth col  fifth col  sixth col\n",
       "first row    -0.320524  -0.569487   -0.928954   0.046244  -0.850314\n",
       "second row   -0.664563  -1.849704   -1.924414  -1.573605  -0.413106\n",
       "third row     0.046804  -0.466326    0.994540   0.745292   0.499178\n",
       "fourth row   -0.293318   1.053727   -0.068066  -1.815182  -1.431677\n",
       "fifth row     0.822038  -0.282931   -0.431429  -0.508004  -0.397970"
      ]
     },
     "execution_count": 30,
     "metadata": {},
     "output_type": "execute_result"
    }
   ],
   "source": [
    "df3"
   ]
  },
  {
   "cell_type": "code",
   "execution_count": 33,
   "metadata": {},
   "outputs": [
    {
     "data": {
      "text/html": [
       "<div>\n",
       "<style scoped>\n",
       "    .dataframe tbody tr th:only-of-type {\n",
       "        vertical-align: middle;\n",
       "    }\n",
       "\n",
       "    .dataframe tbody tr th {\n",
       "        vertical-align: top;\n",
       "    }\n",
       "\n",
       "    .dataframe thead th {\n",
       "        text-align: right;\n",
       "    }\n",
       "</style>\n",
       "<table border=\"1\" class=\"dataframe\">\n",
       "  <thead>\n",
       "    <tr style=\"text-align: right;\">\n",
       "      <th></th>\n",
       "      <th>second col</th>\n",
       "      <th>third col</th>\n",
       "      <th>fourth col</th>\n",
       "      <th>sixth col</th>\n",
       "    </tr>\n",
       "  </thead>\n",
       "  <tbody>\n",
       "    <tr>\n",
       "      <th>first row</th>\n",
       "      <td>-0.320524</td>\n",
       "      <td>-0.569487</td>\n",
       "      <td>-0.928954</td>\n",
       "      <td>-0.850314</td>\n",
       "    </tr>\n",
       "    <tr>\n",
       "      <th>second row</th>\n",
       "      <td>-0.664563</td>\n",
       "      <td>-1.849704</td>\n",
       "      <td>-1.924414</td>\n",
       "      <td>-0.413106</td>\n",
       "    </tr>\n",
       "    <tr>\n",
       "      <th>third row</th>\n",
       "      <td>0.046804</td>\n",
       "      <td>-0.466326</td>\n",
       "      <td>0.994540</td>\n",
       "      <td>0.499178</td>\n",
       "    </tr>\n",
       "    <tr>\n",
       "      <th>fourth row</th>\n",
       "      <td>-0.293318</td>\n",
       "      <td>1.053727</td>\n",
       "      <td>-0.068066</td>\n",
       "      <td>-1.431677</td>\n",
       "    </tr>\n",
       "    <tr>\n",
       "      <th>fifth row</th>\n",
       "      <td>0.822038</td>\n",
       "      <td>-0.282931</td>\n",
       "      <td>-0.431429</td>\n",
       "      <td>-0.397970</td>\n",
       "    </tr>\n",
       "  </tbody>\n",
       "</table>\n",
       "</div>"
      ],
      "text/plain": [
       "            second col  third col  fourth col  sixth col\n",
       "first row    -0.320524  -0.569487   -0.928954  -0.850314\n",
       "second row   -0.664563  -1.849704   -1.924414  -0.413106\n",
       "third row     0.046804  -0.466326    0.994540   0.499178\n",
       "fourth row   -0.293318   1.053727   -0.068066  -1.431677\n",
       "fifth row     0.822038  -0.282931   -0.431429  -0.397970"
      ]
     },
     "execution_count": 33,
     "metadata": {},
     "output_type": "execute_result"
    }
   ],
   "source": [
    "df4 = df3.drop('fifth col',axis=1)\n",
    "df4"
   ]
  },
  {
   "cell_type": "code",
   "execution_count": 34,
   "metadata": {},
   "outputs": [
    {
     "data": {
      "text/html": [
       "<div>\n",
       "<style scoped>\n",
       "    .dataframe tbody tr th:only-of-type {\n",
       "        vertical-align: middle;\n",
       "    }\n",
       "\n",
       "    .dataframe tbody tr th {\n",
       "        vertical-align: top;\n",
       "    }\n",
       "\n",
       "    .dataframe thead th {\n",
       "        text-align: right;\n",
       "    }\n",
       "</style>\n",
       "<table border=\"1\" class=\"dataframe\">\n",
       "  <thead>\n",
       "    <tr style=\"text-align: right;\">\n",
       "      <th></th>\n",
       "      <th>second col</th>\n",
       "      <th>third col</th>\n",
       "      <th>fourth col</th>\n",
       "      <th>fifth col</th>\n",
       "      <th>sixth col</th>\n",
       "    </tr>\n",
       "  </thead>\n",
       "  <tbody>\n",
       "    <tr>\n",
       "      <th>first row</th>\n",
       "      <td>-0.320524</td>\n",
       "      <td>-0.569487</td>\n",
       "      <td>-0.928954</td>\n",
       "      <td>0.046244</td>\n",
       "      <td>-0.850314</td>\n",
       "    </tr>\n",
       "    <tr>\n",
       "      <th>third row</th>\n",
       "      <td>0.046804</td>\n",
       "      <td>-0.466326</td>\n",
       "      <td>0.994540</td>\n",
       "      <td>0.745292</td>\n",
       "      <td>0.499178</td>\n",
       "    </tr>\n",
       "    <tr>\n",
       "      <th>fourth row</th>\n",
       "      <td>-0.293318</td>\n",
       "      <td>1.053727</td>\n",
       "      <td>-0.068066</td>\n",
       "      <td>-1.815182</td>\n",
       "      <td>-1.431677</td>\n",
       "    </tr>\n",
       "    <tr>\n",
       "      <th>fifth row</th>\n",
       "      <td>0.822038</td>\n",
       "      <td>-0.282931</td>\n",
       "      <td>-0.431429</td>\n",
       "      <td>-0.508004</td>\n",
       "      <td>-0.397970</td>\n",
       "    </tr>\n",
       "  </tbody>\n",
       "</table>\n",
       "</div>"
      ],
      "text/plain": [
       "            second col  third col  fourth col  fifth col  sixth col\n",
       "first row    -0.320524  -0.569487   -0.928954   0.046244  -0.850314\n",
       "third row     0.046804  -0.466326    0.994540   0.745292   0.499178\n",
       "fourth row   -0.293318   1.053727   -0.068066  -1.815182  -1.431677\n",
       "fifth row     0.822038  -0.282931   -0.431429  -0.508004  -0.397970"
      ]
     },
     "execution_count": 34,
     "metadata": {},
     "output_type": "execute_result"
    }
   ],
   "source": [
    "df5 = df3.drop('second row',axis=0)\n",
    "df5"
   ]
  },
  {
   "cell_type": "code",
   "execution_count": 36,
   "metadata": {},
   "outputs": [
    {
     "data": {
      "text/html": [
       "<div>\n",
       "<style scoped>\n",
       "    .dataframe tbody tr th:only-of-type {\n",
       "        vertical-align: middle;\n",
       "    }\n",
       "\n",
       "    .dataframe tbody tr th {\n",
       "        vertical-align: top;\n",
       "    }\n",
       "\n",
       "    .dataframe thead th {\n",
       "        text-align: right;\n",
       "    }\n",
       "</style>\n",
       "<table border=\"1\" class=\"dataframe\">\n",
       "  <thead>\n",
       "    <tr style=\"text-align: right;\">\n",
       "      <th></th>\n",
       "      <th>index</th>\n",
       "      <th>second col</th>\n",
       "      <th>third col</th>\n",
       "      <th>fourth col</th>\n",
       "      <th>fifth col</th>\n",
       "      <th>sixth col</th>\n",
       "    </tr>\n",
       "  </thead>\n",
       "  <tbody>\n",
       "    <tr>\n",
       "      <th>0</th>\n",
       "      <td>first row</td>\n",
       "      <td>-0.320524</td>\n",
       "      <td>-0.569487</td>\n",
       "      <td>-0.928954</td>\n",
       "      <td>0.046244</td>\n",
       "      <td>-0.850314</td>\n",
       "    </tr>\n",
       "    <tr>\n",
       "      <th>1</th>\n",
       "      <td>third row</td>\n",
       "      <td>0.046804</td>\n",
       "      <td>-0.466326</td>\n",
       "      <td>0.994540</td>\n",
       "      <td>0.745292</td>\n",
       "      <td>0.499178</td>\n",
       "    </tr>\n",
       "    <tr>\n",
       "      <th>2</th>\n",
       "      <td>fourth row</td>\n",
       "      <td>-0.293318</td>\n",
       "      <td>1.053727</td>\n",
       "      <td>-0.068066</td>\n",
       "      <td>-1.815182</td>\n",
       "      <td>-1.431677</td>\n",
       "    </tr>\n",
       "    <tr>\n",
       "      <th>3</th>\n",
       "      <td>fifth row</td>\n",
       "      <td>0.822038</td>\n",
       "      <td>-0.282931</td>\n",
       "      <td>-0.431429</td>\n",
       "      <td>-0.508004</td>\n",
       "      <td>-0.397970</td>\n",
       "    </tr>\n",
       "  </tbody>\n",
       "</table>\n",
       "</div>"
      ],
      "text/plain": [
       "        index  second col  third col  fourth col  fifth col  sixth col\n",
       "0   first row   -0.320524  -0.569487   -0.928954   0.046244  -0.850314\n",
       "1   third row    0.046804  -0.466326    0.994540   0.745292   0.499178\n",
       "2  fourth row   -0.293318   1.053727   -0.068066  -1.815182  -1.431677\n",
       "3   fifth row    0.822038  -0.282931   -0.431429  -0.508004  -0.397970"
      ]
     },
     "execution_count": 36,
     "metadata": {},
     "output_type": "execute_result"
    }
   ],
   "source": [
    "# we can remove a dataframe's index labels\n",
    "df5.reset_index()"
   ]
  },
  {
   "cell_type": "code",
   "execution_count": 37,
   "metadata": {},
   "outputs": [
    {
     "data": {
      "text/html": [
       "<div>\n",
       "<style scoped>\n",
       "    .dataframe tbody tr th:only-of-type {\n",
       "        vertical-align: middle;\n",
       "    }\n",
       "\n",
       "    .dataframe tbody tr th {\n",
       "        vertical-align: top;\n",
       "    }\n",
       "\n",
       "    .dataframe thead th {\n",
       "        text-align: right;\n",
       "    }\n",
       "</style>\n",
       "<table border=\"1\" class=\"dataframe\">\n",
       "  <thead>\n",
       "    <tr style=\"text-align: right;\">\n",
       "      <th></th>\n",
       "      <th>second col</th>\n",
       "      <th>third col</th>\n",
       "      <th>fourth col</th>\n",
       "      <th>fifth col</th>\n",
       "      <th>sixth col</th>\n",
       "    </tr>\n",
       "  </thead>\n",
       "  <tbody>\n",
       "    <tr>\n",
       "      <th>first row</th>\n",
       "      <td>-0.320524</td>\n",
       "      <td>-0.569487</td>\n",
       "      <td>-0.928954</td>\n",
       "      <td>0.046244</td>\n",
       "      <td>-0.850314</td>\n",
       "    </tr>\n",
       "    <tr>\n",
       "      <th>third row</th>\n",
       "      <td>0.046804</td>\n",
       "      <td>-0.466326</td>\n",
       "      <td>0.994540</td>\n",
       "      <td>0.745292</td>\n",
       "      <td>0.499178</td>\n",
       "    </tr>\n",
       "    <tr>\n",
       "      <th>fourth row</th>\n",
       "      <td>-0.293318</td>\n",
       "      <td>1.053727</td>\n",
       "      <td>-0.068066</td>\n",
       "      <td>-1.815182</td>\n",
       "      <td>-1.431677</td>\n",
       "    </tr>\n",
       "    <tr>\n",
       "      <th>fifth row</th>\n",
       "      <td>0.822038</td>\n",
       "      <td>-0.282931</td>\n",
       "      <td>-0.431429</td>\n",
       "      <td>-0.508004</td>\n",
       "      <td>-0.397970</td>\n",
       "    </tr>\n",
       "  </tbody>\n",
       "</table>\n",
       "</div>"
      ],
      "text/plain": [
       "            second col  third col  fourth col  fifth col  sixth col\n",
       "first row    -0.320524  -0.569487   -0.928954   0.046244  -0.850314\n",
       "third row     0.046804  -0.466326    0.994540   0.745292   0.499178\n",
       "fourth row   -0.293318   1.053727   -0.068066  -1.815182  -1.431677\n",
       "fifth row     0.822038  -0.282931   -0.431429  -0.508004  -0.397970"
      ]
     },
     "execution_count": 37,
     "metadata": {},
     "output_type": "execute_result"
    }
   ],
   "source": [
    "df5"
   ]
  },
  {
   "cell_type": "code",
   "execution_count": 38,
   "metadata": {},
   "outputs": [
    {
     "data": {
      "text/html": [
       "<div>\n",
       "<style scoped>\n",
       "    .dataframe tbody tr th:only-of-type {\n",
       "        vertical-align: middle;\n",
       "    }\n",
       "\n",
       "    .dataframe tbody tr th {\n",
       "        vertical-align: top;\n",
       "    }\n",
       "\n",
       "    .dataframe thead th {\n",
       "        text-align: right;\n",
       "    }\n",
       "</style>\n",
       "<table border=\"1\" class=\"dataframe\">\n",
       "  <thead>\n",
       "    <tr style=\"text-align: right;\">\n",
       "      <th></th>\n",
       "      <th>index</th>\n",
       "      <th>second col</th>\n",
       "      <th>third col</th>\n",
       "      <th>fourth col</th>\n",
       "      <th>fifth col</th>\n",
       "      <th>sixth col</th>\n",
       "    </tr>\n",
       "  </thead>\n",
       "  <tbody>\n",
       "    <tr>\n",
       "      <th>0</th>\n",
       "      <td>first row</td>\n",
       "      <td>-0.320524</td>\n",
       "      <td>-0.569487</td>\n",
       "      <td>-0.928954</td>\n",
       "      <td>0.046244</td>\n",
       "      <td>-0.850314</td>\n",
       "    </tr>\n",
       "    <tr>\n",
       "      <th>1</th>\n",
       "      <td>third row</td>\n",
       "      <td>0.046804</td>\n",
       "      <td>-0.466326</td>\n",
       "      <td>0.994540</td>\n",
       "      <td>0.745292</td>\n",
       "      <td>0.499178</td>\n",
       "    </tr>\n",
       "    <tr>\n",
       "      <th>2</th>\n",
       "      <td>fourth row</td>\n",
       "      <td>-0.293318</td>\n",
       "      <td>1.053727</td>\n",
       "      <td>-0.068066</td>\n",
       "      <td>-1.815182</td>\n",
       "      <td>-1.431677</td>\n",
       "    </tr>\n",
       "    <tr>\n",
       "      <th>3</th>\n",
       "      <td>fifth row</td>\n",
       "      <td>0.822038</td>\n",
       "      <td>-0.282931</td>\n",
       "      <td>-0.431429</td>\n",
       "      <td>-0.508004</td>\n",
       "      <td>-0.397970</td>\n",
       "    </tr>\n",
       "  </tbody>\n",
       "</table>\n",
       "</div>"
      ],
      "text/plain": [
       "        index  second col  third col  fourth col  fifth col  sixth col\n",
       "0   first row   -0.320524  -0.569487   -0.928954   0.046244  -0.850314\n",
       "1   third row    0.046804  -0.466326    0.994540   0.745292   0.499178\n",
       "2  fourth row   -0.293318   1.053727   -0.068066  -1.815182  -1.431677\n",
       "3   fifth row    0.822038  -0.282931   -0.431429  -0.508004  -0.397970"
      ]
     },
     "execution_count": 38,
     "metadata": {},
     "output_type": "execute_result"
    }
   ],
   "source": [
    "df5.reset_index(inplace=True)\n",
    "df5"
   ]
  },
  {
   "cell_type": "code",
   "execution_count": 39,
   "metadata": {},
   "outputs": [
    {
     "data": {
      "text/html": [
       "<div>\n",
       "<style scoped>\n",
       "    .dataframe tbody tr th:only-of-type {\n",
       "        vertical-align: middle;\n",
       "    }\n",
       "\n",
       "    .dataframe tbody tr th {\n",
       "        vertical-align: top;\n",
       "    }\n",
       "\n",
       "    .dataframe thead th {\n",
       "        text-align: right;\n",
       "    }\n",
       "</style>\n",
       "<table border=\"1\" class=\"dataframe\">\n",
       "  <thead>\n",
       "    <tr style=\"text-align: right;\">\n",
       "      <th></th>\n",
       "      <th>index</th>\n",
       "      <th>second col</th>\n",
       "      <th>third col</th>\n",
       "      <th>fourth col</th>\n",
       "      <th>fifth col</th>\n",
       "      <th>sixth col</th>\n",
       "      <th>new name</th>\n",
       "    </tr>\n",
       "  </thead>\n",
       "  <tbody>\n",
       "    <tr>\n",
       "      <th>0</th>\n",
       "      <td>first row</td>\n",
       "      <td>-0.320524</td>\n",
       "      <td>-0.569487</td>\n",
       "      <td>-0.928954</td>\n",
       "      <td>0.046244</td>\n",
       "      <td>-0.850314</td>\n",
       "      <td>This</td>\n",
       "    </tr>\n",
       "    <tr>\n",
       "      <th>1</th>\n",
       "      <td>third row</td>\n",
       "      <td>0.046804</td>\n",
       "      <td>-0.466326</td>\n",
       "      <td>0.994540</td>\n",
       "      <td>0.745292</td>\n",
       "      <td>0.499178</td>\n",
       "      <td>is</td>\n",
       "    </tr>\n",
       "    <tr>\n",
       "      <th>2</th>\n",
       "      <td>fourth row</td>\n",
       "      <td>-0.293318</td>\n",
       "      <td>1.053727</td>\n",
       "      <td>-0.068066</td>\n",
       "      <td>-1.815182</td>\n",
       "      <td>-1.431677</td>\n",
       "      <td>the</td>\n",
       "    </tr>\n",
       "    <tr>\n",
       "      <th>3</th>\n",
       "      <td>fifth row</td>\n",
       "      <td>0.822038</td>\n",
       "      <td>-0.282931</td>\n",
       "      <td>-0.431429</td>\n",
       "      <td>-0.508004</td>\n",
       "      <td>-0.397970</td>\n",
       "      <td>row</td>\n",
       "    </tr>\n",
       "  </tbody>\n",
       "</table>\n",
       "</div>"
      ],
      "text/plain": [
       "        index  second col  third col  fourth col  fifth col  sixth col  \\\n",
       "0   first row   -0.320524  -0.569487   -0.928954   0.046244  -0.850314   \n",
       "1   third row    0.046804  -0.466326    0.994540   0.745292   0.499178   \n",
       "2  fourth row   -0.293318   1.053727   -0.068066  -1.815182  -1.431677   \n",
       "3   fifth row    0.822038  -0.282931   -0.431429  -0.508004  -0.397970   \n",
       "\n",
       "  new name  \n",
       "0     This  \n",
       "1       is  \n",
       "2      the  \n",
       "3      row  "
      ]
     },
     "execution_count": 39,
     "metadata": {},
     "output_type": "execute_result"
    }
   ],
   "source": [
    "# we can assign new names to the index\n",
    "df5['new name'] = ['This','is','the','row']\n",
    "df5\n"
   ]
  },
  {
   "cell_type": "code",
   "execution_count": 40,
   "metadata": {
    "scrolled": true
   },
   "outputs": [
    {
     "data": {
      "text/html": [
       "<div>\n",
       "<style scoped>\n",
       "    .dataframe tbody tr th:only-of-type {\n",
       "        vertical-align: middle;\n",
       "    }\n",
       "\n",
       "    .dataframe tbody tr th {\n",
       "        vertical-align: top;\n",
       "    }\n",
       "\n",
       "    .dataframe thead th {\n",
       "        text-align: right;\n",
       "    }\n",
       "</style>\n",
       "<table border=\"1\" class=\"dataframe\">\n",
       "  <thead>\n",
       "    <tr style=\"text-align: right;\">\n",
       "      <th></th>\n",
       "      <th>index</th>\n",
       "      <th>second col</th>\n",
       "      <th>third col</th>\n",
       "      <th>fourth col</th>\n",
       "      <th>fifth col</th>\n",
       "      <th>sixth col</th>\n",
       "    </tr>\n",
       "    <tr>\n",
       "      <th>new name</th>\n",
       "      <th></th>\n",
       "      <th></th>\n",
       "      <th></th>\n",
       "      <th></th>\n",
       "      <th></th>\n",
       "      <th></th>\n",
       "    </tr>\n",
       "  </thead>\n",
       "  <tbody>\n",
       "    <tr>\n",
       "      <th>This</th>\n",
       "      <td>first row</td>\n",
       "      <td>-0.320524</td>\n",
       "      <td>-0.569487</td>\n",
       "      <td>-0.928954</td>\n",
       "      <td>0.046244</td>\n",
       "      <td>-0.850314</td>\n",
       "    </tr>\n",
       "    <tr>\n",
       "      <th>is</th>\n",
       "      <td>third row</td>\n",
       "      <td>0.046804</td>\n",
       "      <td>-0.466326</td>\n",
       "      <td>0.994540</td>\n",
       "      <td>0.745292</td>\n",
       "      <td>0.499178</td>\n",
       "    </tr>\n",
       "    <tr>\n",
       "      <th>the</th>\n",
       "      <td>fourth row</td>\n",
       "      <td>-0.293318</td>\n",
       "      <td>1.053727</td>\n",
       "      <td>-0.068066</td>\n",
       "      <td>-1.815182</td>\n",
       "      <td>-1.431677</td>\n",
       "    </tr>\n",
       "    <tr>\n",
       "      <th>row</th>\n",
       "      <td>fifth row</td>\n",
       "      <td>0.822038</td>\n",
       "      <td>-0.282931</td>\n",
       "      <td>-0.431429</td>\n",
       "      <td>-0.508004</td>\n",
       "      <td>-0.397970</td>\n",
       "    </tr>\n",
       "  </tbody>\n",
       "</table>\n",
       "</div>"
      ],
      "text/plain": [
       "               index  second col  third col  fourth col  fifth col  sixth col\n",
       "new name                                                                     \n",
       "This       first row   -0.320524  -0.569487   -0.928954   0.046244  -0.850314\n",
       "is         third row    0.046804  -0.466326    0.994540   0.745292   0.499178\n",
       "the       fourth row   -0.293318   1.053727   -0.068066  -1.815182  -1.431677\n",
       "row        fifth row    0.822038  -0.282931   -0.431429  -0.508004  -0.397970"
      ]
     },
     "execution_count": 40,
     "metadata": {},
     "output_type": "execute_result"
    }
   ],
   "source": [
    "df5.set_index('new name',inplace=True)\n",
    "df5"
   ]
  },
  {
   "cell_type": "markdown",
   "metadata": {},
   "source": [
    "# Combining data frames\n",
    "\n",
    "The ways dataframes are combined in pandas is similar to SQL\n",
    "\n",
    "We will examine 3 methods for combining dataframes\n",
    "\n",
    "1. concat\n",
    "2. join\n",
    "3. merge"
   ]
  },
  {
   "cell_type": "code",
   "execution_count": 43,
   "metadata": {},
   "outputs": [],
   "source": [
    "\n",
    "\n",
    "df7 = pd.DataFrame({\"customer\":['101','102','103','104'], \n",
    "                    'category': ['cat2','cat2','cat1','cat3'],\n",
    "                    'important': ['yes','no','yes','yes'],\n",
    "                    'sales': [123,52,214,663]},index=[0,1,2,3])\n",
    "\n",
    "df8 = pd.DataFrame({\"customer\":['101','103','104','105'], \n",
    "                    'color': ['yellow','green','green','blue'],\n",
    "                    'distance': [12,9,44,21],\n",
    "                    'sales': [123,214,663,331]},index=[4,5,6,7])"
   ]
  },
  {
   "cell_type": "code",
   "execution_count": 44,
   "metadata": {},
   "outputs": [
    {
     "data": {
      "text/html": [
       "<div>\n",
       "<style scoped>\n",
       "    .dataframe tbody tr th:only-of-type {\n",
       "        vertical-align: middle;\n",
       "    }\n",
       "\n",
       "    .dataframe tbody tr th {\n",
       "        vertical-align: top;\n",
       "    }\n",
       "\n",
       "    .dataframe thead th {\n",
       "        text-align: right;\n",
       "    }\n",
       "</style>\n",
       "<table border=\"1\" class=\"dataframe\">\n",
       "  <thead>\n",
       "    <tr style=\"text-align: right;\">\n",
       "      <th></th>\n",
       "      <th>customer</th>\n",
       "      <th>category</th>\n",
       "      <th>important</th>\n",
       "      <th>sales</th>\n",
       "      <th>color</th>\n",
       "      <th>distance</th>\n",
       "    </tr>\n",
       "  </thead>\n",
       "  <tbody>\n",
       "    <tr>\n",
       "      <th>0</th>\n",
       "      <td>101</td>\n",
       "      <td>cat2</td>\n",
       "      <td>yes</td>\n",
       "      <td>123</td>\n",
       "      <td>NaN</td>\n",
       "      <td>NaN</td>\n",
       "    </tr>\n",
       "    <tr>\n",
       "      <th>1</th>\n",
       "      <td>102</td>\n",
       "      <td>cat2</td>\n",
       "      <td>no</td>\n",
       "      <td>52</td>\n",
       "      <td>NaN</td>\n",
       "      <td>NaN</td>\n",
       "    </tr>\n",
       "    <tr>\n",
       "      <th>2</th>\n",
       "      <td>103</td>\n",
       "      <td>cat1</td>\n",
       "      <td>yes</td>\n",
       "      <td>214</td>\n",
       "      <td>NaN</td>\n",
       "      <td>NaN</td>\n",
       "    </tr>\n",
       "    <tr>\n",
       "      <th>3</th>\n",
       "      <td>104</td>\n",
       "      <td>cat3</td>\n",
       "      <td>yes</td>\n",
       "      <td>663</td>\n",
       "      <td>NaN</td>\n",
       "      <td>NaN</td>\n",
       "    </tr>\n",
       "    <tr>\n",
       "      <th>4</th>\n",
       "      <td>101</td>\n",
       "      <td>NaN</td>\n",
       "      <td>NaN</td>\n",
       "      <td>123</td>\n",
       "      <td>yellow</td>\n",
       "      <td>12.0</td>\n",
       "    </tr>\n",
       "    <tr>\n",
       "      <th>5</th>\n",
       "      <td>103</td>\n",
       "      <td>NaN</td>\n",
       "      <td>NaN</td>\n",
       "      <td>214</td>\n",
       "      <td>green</td>\n",
       "      <td>9.0</td>\n",
       "    </tr>\n",
       "    <tr>\n",
       "      <th>6</th>\n",
       "      <td>104</td>\n",
       "      <td>NaN</td>\n",
       "      <td>NaN</td>\n",
       "      <td>663</td>\n",
       "      <td>green</td>\n",
       "      <td>44.0</td>\n",
       "    </tr>\n",
       "    <tr>\n",
       "      <th>7</th>\n",
       "      <td>105</td>\n",
       "      <td>NaN</td>\n",
       "      <td>NaN</td>\n",
       "      <td>331</td>\n",
       "      <td>blue</td>\n",
       "      <td>21.0</td>\n",
       "    </tr>\n",
       "  </tbody>\n",
       "</table>\n",
       "</div>"
      ],
      "text/plain": [
       "  customer category important  sales   color  distance\n",
       "0      101     cat2       yes    123     NaN       NaN\n",
       "1      102     cat2        no     52     NaN       NaN\n",
       "2      103     cat1       yes    214     NaN       NaN\n",
       "3      104     cat3       yes    663     NaN       NaN\n",
       "4      101      NaN       NaN    123  yellow      12.0\n",
       "5      103      NaN       NaN    214   green       9.0\n",
       "6      104      NaN       NaN    663   green      44.0\n",
       "7      105      NaN       NaN    331    blue      21.0"
      ]
     },
     "execution_count": 44,
     "metadata": {},
     "output_type": "execute_result"
    }
   ],
   "source": [
    "pd.concat([df7,df8],axis=0)"
   ]
  },
  {
   "cell_type": "code",
   "execution_count": 45,
   "metadata": {},
   "outputs": [
    {
     "data": {
      "text/html": [
       "<div>\n",
       "<style scoped>\n",
       "    .dataframe tbody tr th:only-of-type {\n",
       "        vertical-align: middle;\n",
       "    }\n",
       "\n",
       "    .dataframe tbody tr th {\n",
       "        vertical-align: top;\n",
       "    }\n",
       "\n",
       "    .dataframe thead th {\n",
       "        text-align: right;\n",
       "    }\n",
       "</style>\n",
       "<table border=\"1\" class=\"dataframe\">\n",
       "  <thead>\n",
       "    <tr style=\"text-align: right;\">\n",
       "      <th></th>\n",
       "      <th>customer</th>\n",
       "      <th>category</th>\n",
       "      <th>important</th>\n",
       "      <th>sales</th>\n",
       "      <th>customer</th>\n",
       "      <th>color</th>\n",
       "      <th>distance</th>\n",
       "      <th>sales</th>\n",
       "    </tr>\n",
       "  </thead>\n",
       "  <tbody>\n",
       "    <tr>\n",
       "      <th>0</th>\n",
       "      <td>101</td>\n",
       "      <td>cat2</td>\n",
       "      <td>yes</td>\n",
       "      <td>123.0</td>\n",
       "      <td>NaN</td>\n",
       "      <td>NaN</td>\n",
       "      <td>NaN</td>\n",
       "      <td>NaN</td>\n",
       "    </tr>\n",
       "    <tr>\n",
       "      <th>1</th>\n",
       "      <td>102</td>\n",
       "      <td>cat2</td>\n",
       "      <td>no</td>\n",
       "      <td>52.0</td>\n",
       "      <td>NaN</td>\n",
       "      <td>NaN</td>\n",
       "      <td>NaN</td>\n",
       "      <td>NaN</td>\n",
       "    </tr>\n",
       "    <tr>\n",
       "      <th>2</th>\n",
       "      <td>103</td>\n",
       "      <td>cat1</td>\n",
       "      <td>yes</td>\n",
       "      <td>214.0</td>\n",
       "      <td>NaN</td>\n",
       "      <td>NaN</td>\n",
       "      <td>NaN</td>\n",
       "      <td>NaN</td>\n",
       "    </tr>\n",
       "    <tr>\n",
       "      <th>3</th>\n",
       "      <td>104</td>\n",
       "      <td>cat3</td>\n",
       "      <td>yes</td>\n",
       "      <td>663.0</td>\n",
       "      <td>NaN</td>\n",
       "      <td>NaN</td>\n",
       "      <td>NaN</td>\n",
       "      <td>NaN</td>\n",
       "    </tr>\n",
       "    <tr>\n",
       "      <th>4</th>\n",
       "      <td>NaN</td>\n",
       "      <td>NaN</td>\n",
       "      <td>NaN</td>\n",
       "      <td>NaN</td>\n",
       "      <td>101</td>\n",
       "      <td>yellow</td>\n",
       "      <td>12.0</td>\n",
       "      <td>123.0</td>\n",
       "    </tr>\n",
       "    <tr>\n",
       "      <th>5</th>\n",
       "      <td>NaN</td>\n",
       "      <td>NaN</td>\n",
       "      <td>NaN</td>\n",
       "      <td>NaN</td>\n",
       "      <td>103</td>\n",
       "      <td>green</td>\n",
       "      <td>9.0</td>\n",
       "      <td>214.0</td>\n",
       "    </tr>\n",
       "    <tr>\n",
       "      <th>6</th>\n",
       "      <td>NaN</td>\n",
       "      <td>NaN</td>\n",
       "      <td>NaN</td>\n",
       "      <td>NaN</td>\n",
       "      <td>104</td>\n",
       "      <td>green</td>\n",
       "      <td>44.0</td>\n",
       "      <td>663.0</td>\n",
       "    </tr>\n",
       "    <tr>\n",
       "      <th>7</th>\n",
       "      <td>NaN</td>\n",
       "      <td>NaN</td>\n",
       "      <td>NaN</td>\n",
       "      <td>NaN</td>\n",
       "      <td>105</td>\n",
       "      <td>blue</td>\n",
       "      <td>21.0</td>\n",
       "      <td>331.0</td>\n",
       "    </tr>\n",
       "  </tbody>\n",
       "</table>\n",
       "</div>"
      ],
      "text/plain": [
       "  customer category important  sales customer   color  distance  sales\n",
       "0      101     cat2       yes  123.0      NaN     NaN       NaN    NaN\n",
       "1      102     cat2        no   52.0      NaN     NaN       NaN    NaN\n",
       "2      103     cat1       yes  214.0      NaN     NaN       NaN    NaN\n",
       "3      104     cat3       yes  663.0      NaN     NaN       NaN    NaN\n",
       "4      NaN      NaN       NaN    NaN      101  yellow      12.0  123.0\n",
       "5      NaN      NaN       NaN    NaN      103   green       9.0  214.0\n",
       "6      NaN      NaN       NaN    NaN      104   green      44.0  663.0\n",
       "7      NaN      NaN       NaN    NaN      105    blue      21.0  331.0"
      ]
     },
     "execution_count": 45,
     "metadata": {},
     "output_type": "execute_result"
    }
   ],
   "source": [
    "pd.concat([df7,df8],axis=1)"
   ]
  },
  {
   "cell_type": "markdown",
   "metadata": {},
   "source": [
    "# Merge and Join\n",
    "\n",
    "Merge combines dataframes using a column's values to identify common entries\n",
    "\n",
    "Join combines dataframes using the index to identify common entries"
   ]
  },
  {
   "cell_type": "code",
   "execution_count": 46,
   "metadata": {},
   "outputs": [
    {
     "data": {
      "text/html": [
       "<div>\n",
       "<style scoped>\n",
       "    .dataframe tbody tr th:only-of-type {\n",
       "        vertical-align: middle;\n",
       "    }\n",
       "\n",
       "    .dataframe tbody tr th {\n",
       "        vertical-align: top;\n",
       "    }\n",
       "\n",
       "    .dataframe thead th {\n",
       "        text-align: right;\n",
       "    }\n",
       "</style>\n",
       "<table border=\"1\" class=\"dataframe\">\n",
       "  <thead>\n",
       "    <tr style=\"text-align: right;\">\n",
       "      <th></th>\n",
       "      <th>customer</th>\n",
       "      <th>category</th>\n",
       "      <th>important</th>\n",
       "      <th>sales_x</th>\n",
       "      <th>color</th>\n",
       "      <th>distance</th>\n",
       "      <th>sales_y</th>\n",
       "    </tr>\n",
       "  </thead>\n",
       "  <tbody>\n",
       "    <tr>\n",
       "      <th>0</th>\n",
       "      <td>101</td>\n",
       "      <td>cat2</td>\n",
       "      <td>yes</td>\n",
       "      <td>123.0</td>\n",
       "      <td>yellow</td>\n",
       "      <td>12.0</td>\n",
       "      <td>123.0</td>\n",
       "    </tr>\n",
       "    <tr>\n",
       "      <th>1</th>\n",
       "      <td>102</td>\n",
       "      <td>cat2</td>\n",
       "      <td>no</td>\n",
       "      <td>52.0</td>\n",
       "      <td>NaN</td>\n",
       "      <td>NaN</td>\n",
       "      <td>NaN</td>\n",
       "    </tr>\n",
       "    <tr>\n",
       "      <th>2</th>\n",
       "      <td>103</td>\n",
       "      <td>cat1</td>\n",
       "      <td>yes</td>\n",
       "      <td>214.0</td>\n",
       "      <td>green</td>\n",
       "      <td>9.0</td>\n",
       "      <td>214.0</td>\n",
       "    </tr>\n",
       "    <tr>\n",
       "      <th>3</th>\n",
       "      <td>104</td>\n",
       "      <td>cat3</td>\n",
       "      <td>yes</td>\n",
       "      <td>663.0</td>\n",
       "      <td>green</td>\n",
       "      <td>44.0</td>\n",
       "      <td>663.0</td>\n",
       "    </tr>\n",
       "    <tr>\n",
       "      <th>4</th>\n",
       "      <td>105</td>\n",
       "      <td>NaN</td>\n",
       "      <td>NaN</td>\n",
       "      <td>NaN</td>\n",
       "      <td>blue</td>\n",
       "      <td>21.0</td>\n",
       "      <td>331.0</td>\n",
       "    </tr>\n",
       "  </tbody>\n",
       "</table>\n",
       "</div>"
      ],
      "text/plain": [
       "  customer category important  sales_x   color  distance  sales_y\n",
       "0      101     cat2       yes    123.0  yellow      12.0    123.0\n",
       "1      102     cat2        no     52.0     NaN       NaN      NaN\n",
       "2      103     cat1       yes    214.0   green       9.0    214.0\n",
       "3      104     cat3       yes    663.0   green      44.0    663.0\n",
       "4      105      NaN       NaN      NaN    blue      21.0    331.0"
      ]
     },
     "execution_count": 46,
     "metadata": {},
     "output_type": "execute_result"
    }
   ],
   "source": [
    "pd.merge(df7,df8,how='outer',on='customer')                 # outer merge is union of on"
   ]
  },
  {
   "cell_type": "code",
   "execution_count": 47,
   "metadata": {},
   "outputs": [
    {
     "data": {
      "text/html": [
       "<div>\n",
       "<style scoped>\n",
       "    .dataframe tbody tr th:only-of-type {\n",
       "        vertical-align: middle;\n",
       "    }\n",
       "\n",
       "    .dataframe tbody tr th {\n",
       "        vertical-align: top;\n",
       "    }\n",
       "\n",
       "    .dataframe thead th {\n",
       "        text-align: right;\n",
       "    }\n",
       "</style>\n",
       "<table border=\"1\" class=\"dataframe\">\n",
       "  <thead>\n",
       "    <tr style=\"text-align: right;\">\n",
       "      <th></th>\n",
       "      <th>customer</th>\n",
       "      <th>category</th>\n",
       "      <th>important</th>\n",
       "      <th>sales_x</th>\n",
       "      <th>color</th>\n",
       "      <th>distance</th>\n",
       "      <th>sales_y</th>\n",
       "    </tr>\n",
       "  </thead>\n",
       "  <tbody>\n",
       "    <tr>\n",
       "      <th>0</th>\n",
       "      <td>101</td>\n",
       "      <td>cat2</td>\n",
       "      <td>yes</td>\n",
       "      <td>123</td>\n",
       "      <td>yellow</td>\n",
       "      <td>12</td>\n",
       "      <td>123</td>\n",
       "    </tr>\n",
       "    <tr>\n",
       "      <th>1</th>\n",
       "      <td>103</td>\n",
       "      <td>cat1</td>\n",
       "      <td>yes</td>\n",
       "      <td>214</td>\n",
       "      <td>green</td>\n",
       "      <td>9</td>\n",
       "      <td>214</td>\n",
       "    </tr>\n",
       "    <tr>\n",
       "      <th>2</th>\n",
       "      <td>104</td>\n",
       "      <td>cat3</td>\n",
       "      <td>yes</td>\n",
       "      <td>663</td>\n",
       "      <td>green</td>\n",
       "      <td>44</td>\n",
       "      <td>663</td>\n",
       "    </tr>\n",
       "  </tbody>\n",
       "</table>\n",
       "</div>"
      ],
      "text/plain": [
       "  customer category important  sales_x   color  distance  sales_y\n",
       "0      101     cat2       yes      123  yellow        12      123\n",
       "1      103     cat1       yes      214   green         9      214\n",
       "2      104     cat3       yes      663   green        44      663"
      ]
     },
     "execution_count": 47,
     "metadata": {},
     "output_type": "execute_result"
    }
   ],
   "source": [
    "pd.merge(df7,df8,how='inner',on='customer')                # inner merge is intersection of on"
   ]
  },
  {
   "cell_type": "code",
   "execution_count": 48,
   "metadata": {},
   "outputs": [
    {
     "data": {
      "text/html": [
       "<div>\n",
       "<style scoped>\n",
       "    .dataframe tbody tr th:only-of-type {\n",
       "        vertical-align: middle;\n",
       "    }\n",
       "\n",
       "    .dataframe tbody tr th {\n",
       "        vertical-align: top;\n",
       "    }\n",
       "\n",
       "    .dataframe thead th {\n",
       "        text-align: right;\n",
       "    }\n",
       "</style>\n",
       "<table border=\"1\" class=\"dataframe\">\n",
       "  <thead>\n",
       "    <tr style=\"text-align: right;\">\n",
       "      <th></th>\n",
       "      <th>customer</th>\n",
       "      <th>category</th>\n",
       "      <th>important</th>\n",
       "      <th>sales_x</th>\n",
       "      <th>color</th>\n",
       "      <th>distance</th>\n",
       "      <th>sales_y</th>\n",
       "    </tr>\n",
       "  </thead>\n",
       "  <tbody>\n",
       "    <tr>\n",
       "      <th>0</th>\n",
       "      <td>101</td>\n",
       "      <td>cat2</td>\n",
       "      <td>yes</td>\n",
       "      <td>123.0</td>\n",
       "      <td>yellow</td>\n",
       "      <td>12</td>\n",
       "      <td>123</td>\n",
       "    </tr>\n",
       "    <tr>\n",
       "      <th>1</th>\n",
       "      <td>103</td>\n",
       "      <td>cat1</td>\n",
       "      <td>yes</td>\n",
       "      <td>214.0</td>\n",
       "      <td>green</td>\n",
       "      <td>9</td>\n",
       "      <td>214</td>\n",
       "    </tr>\n",
       "    <tr>\n",
       "      <th>2</th>\n",
       "      <td>104</td>\n",
       "      <td>cat3</td>\n",
       "      <td>yes</td>\n",
       "      <td>663.0</td>\n",
       "      <td>green</td>\n",
       "      <td>44</td>\n",
       "      <td>663</td>\n",
       "    </tr>\n",
       "    <tr>\n",
       "      <th>3</th>\n",
       "      <td>105</td>\n",
       "      <td>NaN</td>\n",
       "      <td>NaN</td>\n",
       "      <td>NaN</td>\n",
       "      <td>blue</td>\n",
       "      <td>21</td>\n",
       "      <td>331</td>\n",
       "    </tr>\n",
       "  </tbody>\n",
       "</table>\n",
       "</div>"
      ],
      "text/plain": [
       "  customer category important  sales_x   color  distance  sales_y\n",
       "0      101     cat2       yes    123.0  yellow        12      123\n",
       "1      103     cat1       yes    214.0   green         9      214\n",
       "2      104     cat3       yes    663.0   green        44      663\n",
       "3      105      NaN       NaN      NaN    blue        21      331"
      ]
     },
     "execution_count": 48,
     "metadata": {},
     "output_type": "execute_result"
    }
   ],
   "source": [
    "pd.merge(df7,df8,how='right',on='customer')                  # left merge is just first on, but all columns ... right is second"
   ]
  },
  {
   "cell_type": "code",
   "execution_count": 50,
   "metadata": {},
   "outputs": [],
   "source": [
    "df9 = pd.DataFrame({'Q1': [101,102,103],\n",
    "                    'Q2': [201,202,203]},\n",
    "                   index=['I0','I1','I2'])\n",
    "\n",
    "df10 = pd.DataFrame({'Q3': [301,302,303],\n",
    "                    'Q4': [401,402,403]},\n",
    "                   index=['I0','I2','I3'])"
   ]
  },
  {
   "cell_type": "code",
   "execution_count": 51,
   "metadata": {},
   "outputs": [
    {
     "data": {
      "text/html": [
       "<div>\n",
       "<style scoped>\n",
       "    .dataframe tbody tr th:only-of-type {\n",
       "        vertical-align: middle;\n",
       "    }\n",
       "\n",
       "    .dataframe tbody tr th {\n",
       "        vertical-align: top;\n",
       "    }\n",
       "\n",
       "    .dataframe thead th {\n",
       "        text-align: right;\n",
       "    }\n",
       "</style>\n",
       "<table border=\"1\" class=\"dataframe\">\n",
       "  <thead>\n",
       "    <tr style=\"text-align: right;\">\n",
       "      <th></th>\n",
       "      <th>Q1</th>\n",
       "      <th>Q2</th>\n",
       "      <th>Q3</th>\n",
       "      <th>Q4</th>\n",
       "    </tr>\n",
       "  </thead>\n",
       "  <tbody>\n",
       "    <tr>\n",
       "      <th>I0</th>\n",
       "      <td>101.0</td>\n",
       "      <td>201.0</td>\n",
       "      <td>301</td>\n",
       "      <td>401</td>\n",
       "    </tr>\n",
       "    <tr>\n",
       "      <th>I2</th>\n",
       "      <td>103.0</td>\n",
       "      <td>203.0</td>\n",
       "      <td>302</td>\n",
       "      <td>402</td>\n",
       "    </tr>\n",
       "    <tr>\n",
       "      <th>I3</th>\n",
       "      <td>NaN</td>\n",
       "      <td>NaN</td>\n",
       "      <td>303</td>\n",
       "      <td>403</td>\n",
       "    </tr>\n",
       "  </tbody>\n",
       "</table>\n",
       "</div>"
      ],
      "text/plain": [
       "       Q1     Q2   Q3   Q4\n",
       "I0  101.0  201.0  301  401\n",
       "I2  103.0  203.0  302  402\n",
       "I3    NaN    NaN  303  403"
      ]
     },
     "execution_count": 51,
     "metadata": {},
     "output_type": "execute_result"
    }
   ],
   "source": [
    "# join behaves just like merge, \n",
    "# except instead of using the values of one of the columns \n",
    "# to combine data frames, it uses the index labels\n",
    "# outer, inner, left, and right work the same as merge\n",
    "\n",
    "\n",
    "\n",
    "df9.join(df10,how='right') "
   ]
  },
  {
   "cell_type": "code",
   "execution_count": 52,
   "metadata": {},
   "outputs": [
    {
     "data": {
      "text/plain": [
       "array(['yellow', 'green', 'blue'], dtype=object)"
      ]
     },
     "execution_count": 52,
     "metadata": {},
     "output_type": "execute_result"
    }
   ],
   "source": [
    "# let's now go over a few more basic functialities of pandas\n",
    "\n",
    "df8['color'].unique()"
   ]
  },
  {
   "cell_type": "code",
   "execution_count": 53,
   "metadata": {},
   "outputs": [
    {
     "data": {
      "text/plain": [
       "green     2\n",
       "yellow    1\n",
       "blue      1\n",
       "Name: color, dtype: int64"
      ]
     },
     "execution_count": 53,
     "metadata": {},
     "output_type": "execute_result"
    }
   ],
   "source": [
    "df8['color'].value_counts()"
   ]
  },
  {
   "cell_type": "code",
   "execution_count": 54,
   "metadata": {},
   "outputs": [
    {
     "data": {
      "text/plain": [
       "Q1    102.0\n",
       "Q2    202.0\n",
       "dtype: float64"
      ]
     },
     "execution_count": 54,
     "metadata": {},
     "output_type": "execute_result"
    }
   ],
   "source": [
    "df9.mean()"
   ]
  },
  {
   "cell_type": "code",
   "execution_count": 55,
   "metadata": {},
   "outputs": [
    {
     "data": {
      "text/plain": [
       "Index(['customer', 'color', 'distance', 'sales'], dtype='object')"
      ]
     },
     "execution_count": 55,
     "metadata": {},
     "output_type": "execute_result"
    }
   ],
   "source": [
    "df8.columns"
   ]
  },
  {
   "cell_type": "code",
   "execution_count": 56,
   "metadata": {},
   "outputs": [
    {
     "data": {
      "text/html": [
       "<div>\n",
       "<style scoped>\n",
       "    .dataframe tbody tr th:only-of-type {\n",
       "        vertical-align: middle;\n",
       "    }\n",
       "\n",
       "    .dataframe tbody tr th {\n",
       "        vertical-align: top;\n",
       "    }\n",
       "\n",
       "    .dataframe thead th {\n",
       "        text-align: right;\n",
       "    }\n",
       "</style>\n",
       "<table border=\"1\" class=\"dataframe\">\n",
       "  <thead>\n",
       "    <tr style=\"text-align: right;\">\n",
       "      <th></th>\n",
       "      <th>customer</th>\n",
       "      <th>color</th>\n",
       "      <th>distance</th>\n",
       "      <th>sales</th>\n",
       "    </tr>\n",
       "  </thead>\n",
       "  <tbody>\n",
       "    <tr>\n",
       "      <th>4</th>\n",
       "      <td>101</td>\n",
       "      <td>yellow</td>\n",
       "      <td>12</td>\n",
       "      <td>123</td>\n",
       "    </tr>\n",
       "    <tr>\n",
       "      <th>5</th>\n",
       "      <td>103</td>\n",
       "      <td>green</td>\n",
       "      <td>9</td>\n",
       "      <td>214</td>\n",
       "    </tr>\n",
       "    <tr>\n",
       "      <th>6</th>\n",
       "      <td>104</td>\n",
       "      <td>green</td>\n",
       "      <td>44</td>\n",
       "      <td>663</td>\n",
       "    </tr>\n",
       "    <tr>\n",
       "      <th>7</th>\n",
       "      <td>105</td>\n",
       "      <td>blue</td>\n",
       "      <td>21</td>\n",
       "      <td>331</td>\n",
       "    </tr>\n",
       "  </tbody>\n",
       "</table>\n",
       "</div>"
      ],
      "text/plain": [
       "  customer   color  distance  sales\n",
       "4      101  yellow        12    123\n",
       "5      103   green         9    214\n",
       "6      104   green        44    663\n",
       "7      105    blue        21    331"
      ]
     },
     "execution_count": 56,
     "metadata": {},
     "output_type": "execute_result"
    }
   ],
   "source": [
    "df8"
   ]
  },
  {
   "cell_type": "code",
   "execution_count": 58,
   "metadata": {},
   "outputs": [
    {
     "data": {
      "text/html": [
       "<div>\n",
       "<style scoped>\n",
       "    .dataframe tbody tr th:only-of-type {\n",
       "        vertical-align: middle;\n",
       "    }\n",
       "\n",
       "    .dataframe tbody tr th {\n",
       "        vertical-align: top;\n",
       "    }\n",
       "\n",
       "    .dataframe thead th {\n",
       "        text-align: right;\n",
       "    }\n",
       "</style>\n",
       "<table border=\"1\" class=\"dataframe\">\n",
       "  <thead>\n",
       "    <tr style=\"text-align: right;\">\n",
       "      <th></th>\n",
       "      <th>customer</th>\n",
       "      <th>color</th>\n",
       "      <th>distance</th>\n",
       "      <th>sales</th>\n",
       "    </tr>\n",
       "  </thead>\n",
       "  <tbody>\n",
       "    <tr>\n",
       "      <th>4</th>\n",
       "      <td>101</td>\n",
       "      <td>yellow</td>\n",
       "      <td>12</td>\n",
       "      <td>123</td>\n",
       "    </tr>\n",
       "  </tbody>\n",
       "</table>\n",
       "</div>"
      ],
      "text/plain": [
       "  customer   color  distance  sales\n",
       "4      101  yellow        12    123"
      ]
     },
     "execution_count": 58,
     "metadata": {},
     "output_type": "execute_result"
    }
   ],
   "source": [
    "new_df = df8[(df8['customer']!='105') & (df8['color']!='green')]\n",
    "new_df"
   ]
  },
  {
   "cell_type": "code",
   "execution_count": 60,
   "metadata": {},
   "outputs": [
    {
     "name": "stdout",
     "output_type": "stream",
     "text": [
      "1331\n",
      "9\n"
     ]
    }
   ],
   "source": [
    "print(df8['sales'].sum())\n",
    "print(df8['distance'].min())"
   ]
  },
  {
   "cell_type": "code",
   "execution_count": 64,
   "metadata": {},
   "outputs": [],
   "source": [
    "def profit(s):\n",
    "    return s*0.5               # 50% markup..."
   ]
  },
  {
   "cell_type": "code",
   "execution_count": 62,
   "metadata": {},
   "outputs": [
    {
     "data": {
      "text/plain": [
       "4     61.5\n",
       "5    107.0\n",
       "6    331.5\n",
       "7    165.5\n",
       "Name: sales, dtype: float64"
      ]
     },
     "execution_count": 62,
     "metadata": {},
     "output_type": "execute_result"
    }
   ],
   "source": [
    "df8['sales'].apply(profit)"
   ]
  },
  {
   "cell_type": "code",
   "execution_count": 63,
   "metadata": {},
   "outputs": [
    {
     "data": {
      "text/plain": [
       "4    6\n",
       "5    5\n",
       "6    5\n",
       "7    4\n",
       "Name: color, dtype: int64"
      ]
     },
     "execution_count": 63,
     "metadata": {},
     "output_type": "execute_result"
    }
   ],
   "source": [
    "df8['color'].apply(len)"
   ]
  },
  {
   "cell_type": "code",
   "execution_count": 65,
   "metadata": {
    "scrolled": true
   },
   "outputs": [
    {
     "data": {
      "text/html": [
       "<div>\n",
       "<style scoped>\n",
       "    .dataframe tbody tr th:only-of-type {\n",
       "        vertical-align: middle;\n",
       "    }\n",
       "\n",
       "    .dataframe tbody tr th {\n",
       "        vertical-align: top;\n",
       "    }\n",
       "\n",
       "    .dataframe thead th {\n",
       "        text-align: right;\n",
       "    }\n",
       "</style>\n",
       "<table border=\"1\" class=\"dataframe\">\n",
       "  <thead>\n",
       "    <tr style=\"text-align: right;\">\n",
       "      <th></th>\n",
       "      <th>distance</th>\n",
       "      <th>sales</th>\n",
       "    </tr>\n",
       "  </thead>\n",
       "  <tbody>\n",
       "    <tr>\n",
       "      <th>4</th>\n",
       "      <td>6.0</td>\n",
       "      <td>61.5</td>\n",
       "    </tr>\n",
       "    <tr>\n",
       "      <th>5</th>\n",
       "      <td>4.5</td>\n",
       "      <td>107.0</td>\n",
       "    </tr>\n",
       "    <tr>\n",
       "      <th>6</th>\n",
       "      <td>22.0</td>\n",
       "      <td>331.5</td>\n",
       "    </tr>\n",
       "    <tr>\n",
       "      <th>7</th>\n",
       "      <td>10.5</td>\n",
       "      <td>165.5</td>\n",
       "    </tr>\n",
       "  </tbody>\n",
       "</table>\n",
       "</div>"
      ],
      "text/plain": [
       "   distance  sales\n",
       "4       6.0   61.5\n",
       "5       4.5  107.0\n",
       "6      22.0  331.5\n",
       "7      10.5  165.5"
      ]
     },
     "execution_count": 65,
     "metadata": {},
     "output_type": "execute_result"
    }
   ],
   "source": [
    "df11 = df8[['distance','sales']]\n",
    "df11.applymap(profit)          ## applymap = means it apply on whole dataframe"
   ]
  },
  {
   "cell_type": "code",
   "execution_count": 73,
   "metadata": {},
   "outputs": [
    {
     "data": {
      "text/plain": [
       "distance      86\n",
       "sales       1331\n",
       "dtype: int64"
      ]
     },
     "execution_count": 73,
     "metadata": {},
     "output_type": "execute_result"
    }
   ],
   "source": [
    "def col_sum(co):\n",
    "    return sum(co)\n",
    "df11.apply(col_sum)"
   ]
  },
  {
   "cell_type": "code",
   "execution_count": 67,
   "metadata": {},
   "outputs": [
    {
     "data": {
      "text/html": [
       "<div>\n",
       "<style scoped>\n",
       "    .dataframe tbody tr th:only-of-type {\n",
       "        vertical-align: middle;\n",
       "    }\n",
       "\n",
       "    .dataframe tbody tr th {\n",
       "        vertical-align: top;\n",
       "    }\n",
       "\n",
       "    .dataframe thead th {\n",
       "        text-align: right;\n",
       "    }\n",
       "</style>\n",
       "<table border=\"1\" class=\"dataframe\">\n",
       "  <thead>\n",
       "    <tr style=\"text-align: right;\">\n",
       "      <th></th>\n",
       "      <th>customer</th>\n",
       "      <th>distance</th>\n",
       "      <th>sales</th>\n",
       "    </tr>\n",
       "  </thead>\n",
       "  <tbody>\n",
       "    <tr>\n",
       "      <th>4</th>\n",
       "      <td>101</td>\n",
       "      <td>12</td>\n",
       "      <td>123</td>\n",
       "    </tr>\n",
       "    <tr>\n",
       "      <th>5</th>\n",
       "      <td>103</td>\n",
       "      <td>9</td>\n",
       "      <td>214</td>\n",
       "    </tr>\n",
       "    <tr>\n",
       "      <th>6</th>\n",
       "      <td>104</td>\n",
       "      <td>44</td>\n",
       "      <td>663</td>\n",
       "    </tr>\n",
       "    <tr>\n",
       "      <th>7</th>\n",
       "      <td>105</td>\n",
       "      <td>21</td>\n",
       "      <td>331</td>\n",
       "    </tr>\n",
       "  </tbody>\n",
       "</table>\n",
       "</div>"
      ],
      "text/plain": [
       "  customer  distance  sales\n",
       "4      101        12    123\n",
       "5      103         9    214\n",
       "6      104        44    663\n",
       "7      105        21    331"
      ]
     },
     "execution_count": 67,
     "metadata": {},
     "output_type": "execute_result"
    }
   ],
   "source": [
    "del df8['color']\n",
    "df8"
   ]
  },
  {
   "cell_type": "code",
   "execution_count": 68,
   "metadata": {},
   "outputs": [
    {
     "data": {
      "text/plain": [
       "Int64Index([4, 5, 6, 7], dtype='int64')"
      ]
     },
     "execution_count": 68,
     "metadata": {},
     "output_type": "execute_result"
    }
   ],
   "source": [
    "df8.index"
   ]
  },
  {
   "cell_type": "code",
   "execution_count": 69,
   "metadata": {},
   "outputs": [
    {
     "data": {
      "text/html": [
       "<div>\n",
       "<style scoped>\n",
       "    .dataframe tbody tr th:only-of-type {\n",
       "        vertical-align: middle;\n",
       "    }\n",
       "\n",
       "    .dataframe tbody tr th {\n",
       "        vertical-align: top;\n",
       "    }\n",
       "\n",
       "    .dataframe thead th {\n",
       "        text-align: right;\n",
       "    }\n",
       "</style>\n",
       "<table border=\"1\" class=\"dataframe\">\n",
       "  <thead>\n",
       "    <tr style=\"text-align: right;\">\n",
       "      <th></th>\n",
       "      <th>customer</th>\n",
       "      <th>distance</th>\n",
       "      <th>sales</th>\n",
       "    </tr>\n",
       "  </thead>\n",
       "  <tbody>\n",
       "    <tr>\n",
       "      <th>5</th>\n",
       "      <td>103</td>\n",
       "      <td>9</td>\n",
       "      <td>214</td>\n",
       "    </tr>\n",
       "    <tr>\n",
       "      <th>4</th>\n",
       "      <td>101</td>\n",
       "      <td>12</td>\n",
       "      <td>123</td>\n",
       "    </tr>\n",
       "    <tr>\n",
       "      <th>7</th>\n",
       "      <td>105</td>\n",
       "      <td>21</td>\n",
       "      <td>331</td>\n",
       "    </tr>\n",
       "    <tr>\n",
       "      <th>6</th>\n",
       "      <td>104</td>\n",
       "      <td>44</td>\n",
       "      <td>663</td>\n",
       "    </tr>\n",
       "  </tbody>\n",
       "</table>\n",
       "</div>"
      ],
      "text/plain": [
       "  customer  distance  sales\n",
       "5      103         9    214\n",
       "4      101        12    123\n",
       "7      105        21    331\n",
       "6      104        44    663"
      ]
     },
     "execution_count": 69,
     "metadata": {},
     "output_type": "execute_result"
    }
   ],
   "source": [
    "df8.sort_values(by='distance',inplace=True)\n",
    "df8"
   ]
  },
  {
   "cell_type": "code",
   "execution_count": 70,
   "metadata": {},
   "outputs": [
    {
     "data": {
      "text/html": [
       "<div>\n",
       "<style scoped>\n",
       "    .dataframe tbody tr th:only-of-type {\n",
       "        vertical-align: middle;\n",
       "    }\n",
       "\n",
       "    .dataframe tbody tr th {\n",
       "        vertical-align: top;\n",
       "    }\n",
       "\n",
       "    .dataframe thead th {\n",
       "        text-align: right;\n",
       "    }\n",
       "</style>\n",
       "<table border=\"1\" class=\"dataframe\">\n",
       "  <thead>\n",
       "    <tr style=\"text-align: right;\">\n",
       "      <th></th>\n",
       "      <th>customer</th>\n",
       "      <th>distance</th>\n",
       "      <th>sales</th>\n",
       "    </tr>\n",
       "  </thead>\n",
       "  <tbody>\n",
       "    <tr>\n",
       "      <th>5</th>\n",
       "      <td>103</td>\n",
       "      <td>9</td>\n",
       "      <td>214</td>\n",
       "    </tr>\n",
       "    <tr>\n",
       "      <th>4</th>\n",
       "      <td>101</td>\n",
       "      <td>12</td>\n",
       "      <td>123</td>\n",
       "    </tr>\n",
       "    <tr>\n",
       "      <th>7</th>\n",
       "      <td>105</td>\n",
       "      <td>21</td>\n",
       "      <td>331</td>\n",
       "    </tr>\n",
       "    <tr>\n",
       "      <th>6</th>\n",
       "      <td>104</td>\n",
       "      <td>44</td>\n",
       "      <td>663</td>\n",
       "    </tr>\n",
       "  </tbody>\n",
       "</table>\n",
       "</div>"
      ],
      "text/plain": [
       "  customer  distance  sales\n",
       "5      103         9    214\n",
       "4      101        12    123\n",
       "7      105        21    331\n",
       "6      104        44    663"
      ]
     },
     "execution_count": 70,
     "metadata": {},
     "output_type": "execute_result"
    }
   ],
   "source": [
    "df8"
   ]
  },
  {
   "cell_type": "code",
   "execution_count": 75,
   "metadata": {},
   "outputs": [
    {
     "data": {
      "text/html": [
       "<div>\n",
       "<style scoped>\n",
       "    .dataframe tbody tr th:only-of-type {\n",
       "        vertical-align: middle;\n",
       "    }\n",
       "\n",
       "    .dataframe tbody tr th {\n",
       "        vertical-align: top;\n",
       "    }\n",
       "\n",
       "    .dataframe thead th {\n",
       "        text-align: right;\n",
       "    }\n",
       "</style>\n",
       "<table border=\"1\" class=\"dataframe\">\n",
       "  <thead>\n",
       "    <tr style=\"text-align: right;\">\n",
       "      <th></th>\n",
       "      <th>customer</th>\n",
       "      <th>product1</th>\n",
       "      <th>product2</th>\n",
       "    </tr>\n",
       "  </thead>\n",
       "  <tbody>\n",
       "    <tr>\n",
       "      <th>Purchase 1</th>\n",
       "      <td>Customer 1</td>\n",
       "      <td>1.1</td>\n",
       "      <td>8.20</td>\n",
       "    </tr>\n",
       "    <tr>\n",
       "      <th>Purchase 2</th>\n",
       "      <td>Customer 1</td>\n",
       "      <td>2.1</td>\n",
       "      <td>9.10</td>\n",
       "    </tr>\n",
       "    <tr>\n",
       "      <th>Purchase 3</th>\n",
       "      <td>Customer2</td>\n",
       "      <td>3.8</td>\n",
       "      <td>11.10</td>\n",
       "    </tr>\n",
       "    <tr>\n",
       "      <th>Purchase 4</th>\n",
       "      <td>Customer2</td>\n",
       "      <td>4.2</td>\n",
       "      <td>5.20</td>\n",
       "    </tr>\n",
       "    <tr>\n",
       "      <th>Purchase 5</th>\n",
       "      <td>Customer3</td>\n",
       "      <td>5.5</td>\n",
       "      <td>44.66</td>\n",
       "    </tr>\n",
       "    <tr>\n",
       "      <th>Purchase 6</th>\n",
       "      <td>Customer3</td>\n",
       "      <td>6.9</td>\n",
       "      <td>983.00</td>\n",
       "    </tr>\n",
       "  </tbody>\n",
       "</table>\n",
       "</div>"
      ],
      "text/plain": [
       "              customer  product1  product2\n",
       "Purchase 1  Customer 1       1.1      8.20\n",
       "Purchase 2  Customer 1       2.1      9.10\n",
       "Purchase 3   Customer2       3.8     11.10\n",
       "Purchase 4   Customer2       4.2      5.20\n",
       "Purchase 5   Customer3       5.5     44.66\n",
       "Purchase 6   Customer3       6.9    983.00"
      ]
     },
     "execution_count": 75,
     "metadata": {},
     "output_type": "execute_result"
    }
   ],
   "source": [
    "# if some series has multiple of the same value then we can group all the unique entries together\n",
    "\n",
    "\n",
    "mydict = {'customer': ['Customer 1','Customer 1','Customer2','Customer2','Customer3','Customer3'], \n",
    "          'product1': [1.1,2.1,3.8,4.2,5.5,6.9],\n",
    "          'product2': [8.2,9.1,11.1,5.2,44.66,983]}\n",
    "df6 = pd.DataFrame(mydict,index=['Purchase 1','Purchase 2','Purchase 3','Purchase 4','Purchase 5','Purchase 6'])\n",
    "df6"
   ]
  },
  {
   "cell_type": "code",
   "execution_count": 76,
   "metadata": {},
   "outputs": [
    {
     "name": "stdout",
     "output_type": "stream",
     "text": [
      "<pandas.core.groupby.generic.DataFrameGroupBy object at 0x00000197ECAE2F70>\n"
     ]
    }
   ],
   "source": [
    "grouped_data = df6.groupby('customer')\n",
    "print(grouped_data)"
   ]
  },
  {
   "cell_type": "code",
   "execution_count": 78,
   "metadata": {},
   "outputs": [
    {
     "data": {
      "text/html": [
       "<div>\n",
       "<style scoped>\n",
       "    .dataframe tbody tr th:only-of-type {\n",
       "        vertical-align: middle;\n",
       "    }\n",
       "\n",
       "    .dataframe tbody tr th {\n",
       "        vertical-align: top;\n",
       "    }\n",
       "\n",
       "    .dataframe thead th {\n",
       "        text-align: right;\n",
       "    }\n",
       "</style>\n",
       "<table border=\"1\" class=\"dataframe\">\n",
       "  <thead>\n",
       "    <tr style=\"text-align: right;\">\n",
       "      <th></th>\n",
       "      <th>product1</th>\n",
       "      <th>product2</th>\n",
       "    </tr>\n",
       "    <tr>\n",
       "      <th>customer</th>\n",
       "      <th></th>\n",
       "      <th></th>\n",
       "    </tr>\n",
       "  </thead>\n",
       "  <tbody>\n",
       "    <tr>\n",
       "      <th>Customer 1</th>\n",
       "      <td>3.2</td>\n",
       "      <td>17.30</td>\n",
       "    </tr>\n",
       "    <tr>\n",
       "      <th>Customer2</th>\n",
       "      <td>8.0</td>\n",
       "      <td>16.30</td>\n",
       "    </tr>\n",
       "    <tr>\n",
       "      <th>Customer3</th>\n",
       "      <td>12.4</td>\n",
       "      <td>1027.66</td>\n",
       "    </tr>\n",
       "  </tbody>\n",
       "</table>\n",
       "</div>"
      ],
      "text/plain": [
       "            product1  product2\n",
       "customer                      \n",
       "Customer 1       3.2     17.30\n",
       "Customer2        8.0     16.30\n",
       "Customer3       12.4   1027.66"
      ]
     },
     "execution_count": 78,
     "metadata": {},
     "output_type": "execute_result"
    }
   ],
   "source": [
    "grouped_data.sum()"
   ]
  },
  {
   "cell_type": "code",
   "execution_count": 80,
   "metadata": {},
   "outputs": [
    {
     "data": {
      "text/html": [
       "<div>\n",
       "<style scoped>\n",
       "    .dataframe tbody tr th:only-of-type {\n",
       "        vertical-align: middle;\n",
       "    }\n",
       "\n",
       "    .dataframe tbody tr th {\n",
       "        vertical-align: top;\n",
       "    }\n",
       "\n",
       "    .dataframe thead th {\n",
       "        text-align: right;\n",
       "    }\n",
       "</style>\n",
       "<table border=\"1\" class=\"dataframe\">\n",
       "  <thead>\n",
       "    <tr style=\"text-align: right;\">\n",
       "      <th></th>\n",
       "      <th>product1</th>\n",
       "      <th>product2</th>\n",
       "    </tr>\n",
       "    <tr>\n",
       "      <th>customer</th>\n",
       "      <th></th>\n",
       "      <th></th>\n",
       "    </tr>\n",
       "  </thead>\n",
       "  <tbody>\n",
       "    <tr>\n",
       "      <th>Customer 1</th>\n",
       "      <td>0.707107</td>\n",
       "      <td>0.636396</td>\n",
       "    </tr>\n",
       "    <tr>\n",
       "      <th>Customer2</th>\n",
       "      <td>0.282843</td>\n",
       "      <td>4.171930</td>\n",
       "    </tr>\n",
       "    <tr>\n",
       "      <th>Customer3</th>\n",
       "      <td>0.989949</td>\n",
       "      <td>663.506577</td>\n",
       "    </tr>\n",
       "  </tbody>\n",
       "</table>\n",
       "</div>"
      ],
      "text/plain": [
       "            product1    product2\n",
       "customer                        \n",
       "Customer 1  0.707107    0.636396\n",
       "Customer2   0.282843    4.171930\n",
       "Customer3   0.989949  663.506577"
      ]
     },
     "execution_count": 80,
     "metadata": {},
     "output_type": "execute_result"
    }
   ],
   "source": [
    "grouped_data.std()"
   ]
  },
  {
   "cell_type": "code",
   "execution_count": 81,
   "metadata": {
    "scrolled": true
   },
   "outputs": [
    {
     "data": {
      "text/html": [
       "<div>\n",
       "<style scoped>\n",
       "    .dataframe tbody tr th:only-of-type {\n",
       "        vertical-align: middle;\n",
       "    }\n",
       "\n",
       "    .dataframe tbody tr th {\n",
       "        vertical-align: top;\n",
       "    }\n",
       "\n",
       "    .dataframe thead th {\n",
       "        text-align: right;\n",
       "    }\n",
       "</style>\n",
       "<table border=\"1\" class=\"dataframe\">\n",
       "  <thead>\n",
       "    <tr style=\"text-align: right;\">\n",
       "      <th></th>\n",
       "      <th>customer</th>\n",
       "      <th>distance</th>\n",
       "      <th>sales</th>\n",
       "    </tr>\n",
       "  </thead>\n",
       "  <tbody>\n",
       "    <tr>\n",
       "      <th>5</th>\n",
       "      <td>103</td>\n",
       "      <td>9</td>\n",
       "      <td>214</td>\n",
       "    </tr>\n",
       "    <tr>\n",
       "      <th>4</th>\n",
       "      <td>101</td>\n",
       "      <td>12</td>\n",
       "      <td>123</td>\n",
       "    </tr>\n",
       "    <tr>\n",
       "      <th>7</th>\n",
       "      <td>105</td>\n",
       "      <td>21</td>\n",
       "      <td>331</td>\n",
       "    </tr>\n",
       "    <tr>\n",
       "      <th>6</th>\n",
       "      <td>104</td>\n",
       "      <td>44</td>\n",
       "      <td>663</td>\n",
       "    </tr>\n",
       "  </tbody>\n",
       "</table>\n",
       "</div>"
      ],
      "text/plain": [
       "  customer  distance  sales\n",
       "5      103         9    214\n",
       "4      101        12    123\n",
       "7      105        21    331\n",
       "6      104        44    663"
      ]
     },
     "execution_count": 81,
     "metadata": {},
     "output_type": "execute_result"
    }
   ],
   "source": [
    "df8"
   ]
  },
  {
   "cell_type": "code",
   "execution_count": 82,
   "metadata": {},
   "outputs": [],
   "source": [
    "# similar to numpy arrays, we can also save and load dataframes to csv files, and also Excel files\n",
    "\n",
    "df8.to_csv('df8.csv',index=True)"
   ]
  },
  {
   "cell_type": "code",
   "execution_count": 83,
   "metadata": {},
   "outputs": [
    {
     "data": {
      "text/html": [
       "<div>\n",
       "<style scoped>\n",
       "    .dataframe tbody tr th:only-of-type {\n",
       "        vertical-align: middle;\n",
       "    }\n",
       "\n",
       "    .dataframe tbody tr th {\n",
       "        vertical-align: top;\n",
       "    }\n",
       "\n",
       "    .dataframe thead th {\n",
       "        text-align: right;\n",
       "    }\n",
       "</style>\n",
       "<table border=\"1\" class=\"dataframe\">\n",
       "  <thead>\n",
       "    <tr style=\"text-align: right;\">\n",
       "      <th></th>\n",
       "      <th>customer</th>\n",
       "      <th>distance</th>\n",
       "      <th>sales</th>\n",
       "    </tr>\n",
       "  </thead>\n",
       "  <tbody>\n",
       "    <tr>\n",
       "      <th>5</th>\n",
       "      <td>103</td>\n",
       "      <td>9</td>\n",
       "      <td>214</td>\n",
       "    </tr>\n",
       "    <tr>\n",
       "      <th>4</th>\n",
       "      <td>101</td>\n",
       "      <td>12</td>\n",
       "      <td>123</td>\n",
       "    </tr>\n",
       "    <tr>\n",
       "      <th>7</th>\n",
       "      <td>105</td>\n",
       "      <td>21</td>\n",
       "      <td>331</td>\n",
       "    </tr>\n",
       "    <tr>\n",
       "      <th>6</th>\n",
       "      <td>104</td>\n",
       "      <td>44</td>\n",
       "      <td>663</td>\n",
       "    </tr>\n",
       "  </tbody>\n",
       "</table>\n",
       "</div>"
      ],
      "text/plain": [
       "   customer  distance  sales\n",
       "5       103         9    214\n",
       "4       101        12    123\n",
       "7       105        21    331\n",
       "6       104        44    663"
      ]
     },
     "execution_count": 83,
     "metadata": {},
     "output_type": "execute_result"
    }
   ],
   "source": [
    "new_df8 = pd.read_csv('df8.csv',index_col=0)\n",
    "new_df8"
   ]
  },
  {
   "cell_type": "code",
   "execution_count": 84,
   "metadata": {},
   "outputs": [
    {
     "data": {
      "text/html": [
       "<div>\n",
       "<style scoped>\n",
       "    .dataframe tbody tr th:only-of-type {\n",
       "        vertical-align: middle;\n",
       "    }\n",
       "\n",
       "    .dataframe tbody tr th {\n",
       "        vertical-align: top;\n",
       "    }\n",
       "\n",
       "    .dataframe thead th {\n",
       "        text-align: right;\n",
       "    }\n",
       "</style>\n",
       "<table border=\"1\" class=\"dataframe\">\n",
       "  <thead>\n",
       "    <tr style=\"text-align: right;\">\n",
       "      <th></th>\n",
       "      <th>customer</th>\n",
       "      <th>sales</th>\n",
       "    </tr>\n",
       "    <tr>\n",
       "      <th>distance</th>\n",
       "      <th></th>\n",
       "      <th></th>\n",
       "    </tr>\n",
       "  </thead>\n",
       "  <tbody>\n",
       "    <tr>\n",
       "      <th>9</th>\n",
       "      <td>103</td>\n",
       "      <td>214</td>\n",
       "    </tr>\n",
       "    <tr>\n",
       "      <th>12</th>\n",
       "      <td>101</td>\n",
       "      <td>123</td>\n",
       "    </tr>\n",
       "    <tr>\n",
       "      <th>21</th>\n",
       "      <td>105</td>\n",
       "      <td>331</td>\n",
       "    </tr>\n",
       "    <tr>\n",
       "      <th>44</th>\n",
       "      <td>104</td>\n",
       "      <td>663</td>\n",
       "    </tr>\n",
       "  </tbody>\n",
       "</table>\n",
       "</div>"
      ],
      "text/plain": [
       "          customer  sales\n",
       "distance                 \n",
       "9              103    214\n",
       "12             101    123\n",
       "21             105    331\n",
       "44             104    663"
      ]
     },
     "execution_count": 84,
     "metadata": {},
     "output_type": "execute_result"
    }
   ],
   "source": [
    "df8.to_excel('df8.xlsx',index=False,sheet_name='first sheet')\n",
    "newer_df8 = pd.read_excel('df8.xlsx',sheet_name='first sheet',index_col=1)\n",
    "newer_df8"
   ]
  },
  {
   "cell_type": "code",
   "execution_count": null,
   "metadata": {},
   "outputs": [],
   "source": []
  }
 ],
 "metadata": {
  "kernelspec": {
   "display_name": "Python 3 (ipykernel)",
   "language": "python",
   "name": "python3"
  },
  "language_info": {
   "codemirror_mode": {
    "name": "ipython",
    "version": 3
   },
   "file_extension": ".py",
   "mimetype": "text/x-python",
   "name": "python",
   "nbconvert_exporter": "python",
   "pygments_lexer": "ipython3",
   "version": "3.9.13"
  }
 },
 "nbformat": 4,
 "nbformat_minor": 2
}
